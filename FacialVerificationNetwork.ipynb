{
 "cells": [
  {
   "cell_type": "markdown",
   "metadata": {},
   "source": [
    "# 1. Setup"
   ]
  },
  {
   "cell_type": "code",
   "execution_count": 5,
   "metadata": {},
   "outputs": [
    {
     "name": "stdout",
     "output_type": "stream",
     "text": [
      "Collecting pip\n",
      "  Downloading https://files.pythonhosted.org/packages/8a/6a/19e9fe04fca059ccf770861c7d5721ab4c2aebc539889e97c7977528a53b/pip-24.0-py3-none-any.whl (2.1MB)\n",
      "Installing collected packages: pip\n",
      "  Found existing installation: pip 10.0.1\n",
      "    Uninstalling pip-10.0.1:\n",
      "      Successfully uninstalled pip-10.0.1\n",
      "Successfully installed pip-24.0\n"
     ]
    }
   ],
   "source": [
    "!python -m pip install --upgrade pip"
   ]
  },
  {
   "cell_type": "code",
   "execution_count": 6,
   "metadata": {},
   "outputs": [
    {
     "name": "stdout",
     "output_type": "stream",
     "text": [
      "Requirement already satisfied: setuptools in c:\\users\\ismai\\appdata\\local\\programs\\python\\python37\\lib\\site-packages (39.0.1)\n",
      "Requirement already satisfied: wheel in c:\\users\\ismai\\appdata\\local\\programs\\python\\python37\\lib\\site-packages (0.42.0)\n"
     ]
    }
   ],
   "source": [
    "!pip install setuptools wheel"
   ]
  },
  {
   "cell_type": "code",
   "execution_count": 17,
   "metadata": {
    "collapsed": true
   },
   "outputs": [
    {
     "name": "stdout",
     "output_type": "stream",
     "text": [
      "Collecting typing_extensions==3.7.4\n",
      "  Using cached typing_extensions-3.7.4-py3-none-any.whl.metadata (1.9 kB)\n",
      "Using cached typing_extensions-3.7.4-py3-none-any.whl (20 kB)\n",
      "Installing collected packages: typing_extensions\n",
      "  Attempting uninstall: typing_extensions\n",
      "    Found existing installation: typing_extensions 4.7.1\n",
      "    Uninstalling typing_extensions-4.7.1:\n",
      "      Successfully uninstalled typing_extensions-4.7.1\n",
      "Successfully installed typing_extensions-3.7.4\n"
     ]
    },
    {
     "name": "stderr",
     "output_type": "stream",
     "text": [
      "ERROR: pip's dependency resolver does not currently take into account all the packages that are installed. This behaviour is the source of the following dependency conflicts.\n",
      "aiosqlite 0.18.0 requires typing_extensions>=4.0; python_version < \"3.8\", but you have typing-extensions 3.7.4 which is incompatible.\n"
     ]
    },
    {
     "name": "stdout",
     "output_type": "stream",
     "text": [
      "Collecting aiosqlite==0.17.0\n",
      "  Downloading aiosqlite-0.17.0-py3-none-any.whl.metadata (4.1 kB)\n",
      "Requirement already satisfied: typing_extensions>=3.7.2 in c:\\users\\ismai\\appdata\\local\\programs\\python\\python37\\lib\\site-packages (from aiosqlite==0.17.0) (3.7.4)\n",
      "Downloading aiosqlite-0.17.0-py3-none-any.whl (15 kB)\n",
      "Installing collected packages: aiosqlite\n",
      "  Attempting uninstall: aiosqlite\n",
      "    Found existing installation: aiosqlite 0.18.0\n",
      "    Uninstalling aiosqlite-0.18.0:\n",
      "      Successfully uninstalled aiosqlite-0.18.0\n",
      "Successfully installed aiosqlite-0.17.0\n"
     ]
    }
   ],
   "source": [
    "!pip install typing_extensions==3.7.4\n",
    "!pip install aiosqlite==0.17.0"
   ]
  },
  {
   "cell_type": "markdown",
   "metadata": {},
   "source": [
    "## 1.1 Install Dependencies"
   ]
  },
  {
   "cell_type": "code",
   "execution_count": 18,
   "metadata": {
    "collapsed": true
   },
   "outputs": [
    {
     "name": "stdout",
     "output_type": "stream",
     "text": [
      "Requirement already satisfied: tensorflow==2.4.1 in c:\\users\\ismai\\appdata\\local\\programs\\python\\python37\\lib\\site-packages (2.4.1)\n",
      "Requirement already satisfied: tensorflow-gpu==2.4.1 in c:\\users\\ismai\\appdata\\local\\programs\\python\\python37\\lib\\site-packages (2.4.1)\n",
      "Requirement already satisfied: opencv-python in c:\\users\\ismai\\appdata\\local\\programs\\python\\python37\\lib\\site-packages (4.11.0.86)\n",
      "Requirement already satisfied: matplotlib in c:\\users\\ismai\\appdata\\local\\programs\\python\\python37\\lib\\site-packages (3.5.3)\n",
      "Requirement already satisfied: absl-py~=0.10 in c:\\users\\ismai\\appdata\\local\\programs\\python\\python37\\lib\\site-packages (from tensorflow==2.4.1) (0.15.0)\n",
      "Requirement already satisfied: astunparse~=1.6.3 in c:\\users\\ismai\\appdata\\local\\programs\\python\\python37\\lib\\site-packages (from tensorflow==2.4.1) (1.6.3)\n",
      "Requirement already satisfied: flatbuffers~=1.12.0 in c:\\users\\ismai\\appdata\\local\\programs\\python\\python37\\lib\\site-packages (from tensorflow==2.4.1) (1.12)\n",
      "Requirement already satisfied: google-pasta~=0.2 in c:\\users\\ismai\\appdata\\local\\programs\\python\\python37\\lib\\site-packages (from tensorflow==2.4.1) (0.2.0)\n",
      "Requirement already satisfied: h5py~=2.10.0 in c:\\users\\ismai\\appdata\\local\\programs\\python\\python37\\lib\\site-packages (from tensorflow==2.4.1) (2.10.0)\n",
      "Requirement already satisfied: keras-preprocessing~=1.1.2 in c:\\users\\ismai\\appdata\\local\\programs\\python\\python37\\lib\\site-packages (from tensorflow==2.4.1) (1.1.2)\n",
      "Requirement already satisfied: numpy~=1.19.2 in c:\\users\\ismai\\appdata\\local\\programs\\python\\python37\\lib\\site-packages (from tensorflow==2.4.1) (1.19.5)\n",
      "Requirement already satisfied: opt-einsum~=3.3.0 in c:\\users\\ismai\\appdata\\local\\programs\\python\\python37\\lib\\site-packages (from tensorflow==2.4.1) (3.3.0)\n",
      "Requirement already satisfied: protobuf>=3.9.2 in c:\\users\\ismai\\appdata\\local\\programs\\python\\python37\\lib\\site-packages (from tensorflow==2.4.1) (3.20.3)\n",
      "Requirement already satisfied: six~=1.15.0 in c:\\users\\ismai\\appdata\\local\\programs\\python\\python37\\lib\\site-packages (from tensorflow==2.4.1) (1.15.0)\n",
      "Requirement already satisfied: termcolor~=1.1.0 in c:\\users\\ismai\\appdata\\local\\programs\\python\\python37\\lib\\site-packages (from tensorflow==2.4.1) (1.1.0)\n",
      "Requirement already satisfied: typing-extensions~=3.7.4 in c:\\users\\ismai\\appdata\\local\\programs\\python\\python37\\lib\\site-packages (from tensorflow==2.4.1) (3.7.4)\n",
      "Requirement already satisfied: wheel~=0.35 in c:\\users\\ismai\\appdata\\local\\programs\\python\\python37\\lib\\site-packages (from tensorflow==2.4.1) (0.42.0)\n",
      "Requirement already satisfied: wrapt~=1.12.1 in c:\\users\\ismai\\appdata\\local\\programs\\python\\python37\\lib\\site-packages (from tensorflow==2.4.1) (1.12.1)\n",
      "Requirement already satisfied: gast==0.3.3 in c:\\users\\ismai\\appdata\\local\\programs\\python\\python37\\lib\\site-packages (from tensorflow==2.4.1) (0.3.3)\n",
      "Requirement already satisfied: tensorboard~=2.4 in c:\\users\\ismai\\appdata\\local\\programs\\python\\python37\\lib\\site-packages (from tensorflow==2.4.1) (2.11.2)\n",
      "Requirement already satisfied: tensorflow-estimator<2.5.0,>=2.4.0 in c:\\users\\ismai\\appdata\\local\\programs\\python\\python37\\lib\\site-packages (from tensorflow==2.4.1) (2.4.0)\n",
      "Requirement already satisfied: grpcio~=1.32.0 in c:\\users\\ismai\\appdata\\local\\programs\\python\\python37\\lib\\site-packages (from tensorflow==2.4.1) (1.32.0)\n",
      "Requirement already satisfied: cycler>=0.10 in c:\\users\\ismai\\appdata\\local\\programs\\python\\python37\\lib\\site-packages (from matplotlib) (0.11.0)\n",
      "Requirement already satisfied: fonttools>=4.22.0 in c:\\users\\ismai\\appdata\\local\\programs\\python\\python37\\lib\\site-packages (from matplotlib) (4.38.0)\n",
      "Requirement already satisfied: kiwisolver>=1.0.1 in c:\\users\\ismai\\appdata\\local\\programs\\python\\python37\\lib\\site-packages (from matplotlib) (1.4.5)\n",
      "Requirement already satisfied: packaging>=20.0 in c:\\users\\ismai\\appdata\\local\\programs\\python\\python37\\lib\\site-packages (from matplotlib) (24.0)\n",
      "Requirement already satisfied: pillow>=6.2.0 in c:\\users\\ismai\\appdata\\local\\programs\\python\\python37\\lib\\site-packages (from matplotlib) (9.5.0)\n",
      "Requirement already satisfied: pyparsing>=2.2.1 in c:\\users\\ismai\\appdata\\local\\programs\\python\\python37\\lib\\site-packages (from matplotlib) (3.1.4)\n",
      "Requirement already satisfied: python-dateutil>=2.7 in c:\\users\\ismai\\appdata\\local\\programs\\python\\python37\\lib\\site-packages (from matplotlib) (2.9.0.post0)\n",
      "Requirement already satisfied: google-auth<3,>=1.6.3 in c:\\users\\ismai\\appdata\\local\\programs\\python\\python37\\lib\\site-packages (from tensorboard~=2.4->tensorflow==2.4.1) (2.37.0)\n",
      "Requirement already satisfied: google-auth-oauthlib<0.5,>=0.4.1 in c:\\users\\ismai\\appdata\\local\\programs\\python\\python37\\lib\\site-packages (from tensorboard~=2.4->tensorflow==2.4.1) (0.4.6)\n",
      "Requirement already satisfied: markdown>=2.6.8 in c:\\users\\ismai\\appdata\\local\\programs\\python\\python37\\lib\\site-packages (from tensorboard~=2.4->tensorflow==2.4.1) (3.4.4)\n",
      "Requirement already satisfied: requests<3,>=2.21.0 in c:\\users\\ismai\\appdata\\local\\programs\\python\\python37\\lib\\site-packages (from tensorboard~=2.4->tensorflow==2.4.1) (2.31.0)\n",
      "Requirement already satisfied: setuptools>=41.0.0 in c:\\users\\ismai\\appdata\\local\\programs\\python\\python37\\lib\\site-packages (from tensorboard~=2.4->tensorflow==2.4.1) (68.0.0)\n",
      "Requirement already satisfied: tensorboard-data-server<0.7.0,>=0.6.0 in c:\\users\\ismai\\appdata\\local\\programs\\python\\python37\\lib\\site-packages (from tensorboard~=2.4->tensorflow==2.4.1) (0.6.1)\n",
      "Requirement already satisfied: tensorboard-plugin-wit>=1.6.0 in c:\\users\\ismai\\appdata\\local\\programs\\python\\python37\\lib\\site-packages (from tensorboard~=2.4->tensorflow==2.4.1) (1.8.1)\n",
      "Requirement already satisfied: werkzeug>=1.0.1 in c:\\users\\ismai\\appdata\\local\\programs\\python\\python37\\lib\\site-packages (from tensorboard~=2.4->tensorflow==2.4.1) (2.2.3)\n",
      "Requirement already satisfied: cachetools<6.0,>=2.0.0 in c:\\users\\ismai\\appdata\\local\\programs\\python\\python37\\lib\\site-packages (from google-auth<3,>=1.6.3->tensorboard~=2.4->tensorflow==2.4.1) (5.5.1)\n",
      "Requirement already satisfied: pyasn1-modules>=0.2.1 in c:\\users\\ismai\\appdata\\local\\programs\\python\\python37\\lib\\site-packages (from google-auth<3,>=1.6.3->tensorboard~=2.4->tensorflow==2.4.1) (0.3.0)\n",
      "Requirement already satisfied: rsa<5,>=3.1.4 in c:\\users\\ismai\\appdata\\local\\programs\\python\\python37\\lib\\site-packages (from google-auth<3,>=1.6.3->tensorboard~=2.4->tensorflow==2.4.1) (4.9)\n",
      "Requirement already satisfied: requests-oauthlib>=0.7.0 in c:\\users\\ismai\\appdata\\local\\programs\\python\\python37\\lib\\site-packages (from google-auth-oauthlib<0.5,>=0.4.1->tensorboard~=2.4->tensorflow==2.4.1) (2.0.0)\n",
      "Requirement already satisfied: importlib-metadata>=4.4 in c:\\users\\ismai\\appdata\\local\\programs\\python\\python37\\lib\\site-packages (from markdown>=2.6.8->tensorboard~=2.4->tensorflow==2.4.1) (6.7.0)\n",
      "Requirement already satisfied: charset-normalizer<4,>=2 in c:\\users\\ismai\\appdata\\local\\programs\\python\\python37\\lib\\site-packages (from requests<3,>=2.21.0->tensorboard~=2.4->tensorflow==2.4.1) (3.4.1)\n",
      "Requirement already satisfied: idna<4,>=2.5 in c:\\users\\ismai\\appdata\\local\\programs\\python\\python37\\lib\\site-packages (from requests<3,>=2.21.0->tensorboard~=2.4->tensorflow==2.4.1) (3.10)\n",
      "Requirement already satisfied: urllib3<3,>=1.21.1 in c:\\users\\ismai\\appdata\\local\\programs\\python\\python37\\lib\\site-packages (from requests<3,>=2.21.0->tensorboard~=2.4->tensorflow==2.4.1) (2.0.7)\n",
      "Requirement already satisfied: certifi>=2017.4.17 in c:\\users\\ismai\\appdata\\local\\programs\\python\\python37\\lib\\site-packages (from requests<3,>=2.21.0->tensorboard~=2.4->tensorflow==2.4.1) (2024.12.14)\n",
      "Requirement already satisfied: MarkupSafe>=2.1.1 in c:\\users\\ismai\\appdata\\local\\programs\\python\\python37\\lib\\site-packages (from werkzeug>=1.0.1->tensorboard~=2.4->tensorflow==2.4.1) (2.1.5)\n",
      "Requirement already satisfied: zipp>=0.5 in c:\\users\\ismai\\appdata\\local\\programs\\python\\python37\\lib\\site-packages (from importlib-metadata>=4.4->markdown>=2.6.8->tensorboard~=2.4->tensorflow==2.4.1) (3.15.0)\n",
      "Requirement already satisfied: pyasn1<0.6.0,>=0.4.6 in c:\\users\\ismai\\appdata\\local\\programs\\python\\python37\\lib\\site-packages (from pyasn1-modules>=0.2.1->google-auth<3,>=1.6.3->tensorboard~=2.4->tensorflow==2.4.1) (0.5.1)\n",
      "Requirement already satisfied: oauthlib>=3.0.0 in c:\\users\\ismai\\appdata\\local\\programs\\python\\python37\\lib\\site-packages (from requests-oauthlib>=0.7.0->google-auth-oauthlib<0.5,>=0.4.1->tensorboard~=2.4->tensorflow==2.4.1) (3.2.2)\n"
     ]
    }
   ],
   "source": [
    "!pip install tensorflow==2.4.1 tensorflow-gpu==2.4.1 opencv-python matplotlib"
   ]
  },
  {
   "cell_type": "markdown",
   "metadata": {},
   "source": [
    "## 1.2 Import Dependencies"
   ]
  },
  {
   "cell_type": "code",
   "execution_count": 107,
   "metadata": {},
   "outputs": [],
   "source": [
    "# Import standard dependencies\n",
    "import cv2\n",
    "import os\n",
    "import random\n",
    "import numpy as np\n",
    "from matplotlib import pyplot as plt"
   ]
  },
  {
   "cell_type": "code",
   "execution_count": 108,
   "metadata": {},
   "outputs": [],
   "source": [
    "# Import tensorflow dependencies - Functional API\n",
    "from tensorflow.keras.models import Model\n",
    "from tensorflow.keras.layers import Layer, Conv2D, Dense, MaxPooling2D, Input, Flatten\n",
    "import tensorflow as tf"
   ]
  },
  {
   "cell_type": "markdown",
   "metadata": {},
   "source": [
    "## 1.3 Set GPU Growth"
   ]
  },
  {
   "cell_type": "code",
   "execution_count": 109,
   "metadata": {},
   "outputs": [],
   "source": [
    "# Avoid OOM errors by setting GPU Memory Consumption Growth\n",
    "gpus = tf.config.experimental.list_physical_devices('GPU')\n",
    "for gpu in gpus: \n",
    "    tf.config.experimental.set_memory_growth(gpu, True)"
   ]
  },
  {
   "cell_type": "code",
   "execution_count": 110,
   "metadata": {},
   "outputs": [
    {
     "data": {
      "text/plain": [
       "0"
      ]
     },
     "execution_count": 110,
     "metadata": {},
     "output_type": "execute_result"
    }
   ],
   "source": [
    "len(gpus)\n"
   ]
  },
  {
   "cell_type": "markdown",
   "metadata": {},
   "source": [
    "## 1.4 Create Folder Structures"
   ]
  },
  {
   "cell_type": "code",
   "execution_count": 111,
   "metadata": {},
   "outputs": [],
   "source": [
    "# Setup paths\n",
    "POS_PATH = os.path.join('data', 'positive')\n",
    "NEG_PATH = os.path.join('data', 'negative')\n",
    "ANC_PATH = os.path.join('data', 'anchor')"
   ]
  },
  {
   "cell_type": "code",
   "execution_count": 6,
   "metadata": {},
   "outputs": [
    {
     "ename": "FileExistsError",
     "evalue": "[WinError 183] Cannot create a file when that file already exists: 'data\\\\positive'",
     "output_type": "error",
     "traceback": [
      "\u001b[1;31m---------------------------------------------------------------------------\u001b[0m",
      "\u001b[1;31mFileExistsError\u001b[0m                           Traceback (most recent call last)",
      "\u001b[1;32m~\\AppData\\Local\\Temp\\ipykernel_716\\2704642804.py\u001b[0m in \u001b[0;36m<module>\u001b[1;34m\u001b[0m\n\u001b[0;32m      1\u001b[0m \u001b[1;31m# Make the directories\u001b[0m\u001b[1;33m\u001b[0m\u001b[1;33m\u001b[0m\u001b[0m\n\u001b[1;32m----> 2\u001b[1;33m \u001b[0mos\u001b[0m\u001b[1;33m.\u001b[0m\u001b[0mmakedirs\u001b[0m\u001b[1;33m(\u001b[0m\u001b[0mPOS_PATH\u001b[0m\u001b[1;33m)\u001b[0m\u001b[1;33m\u001b[0m\u001b[0m\n\u001b[0m\u001b[0;32m      3\u001b[0m \u001b[0mos\u001b[0m\u001b[1;33m.\u001b[0m\u001b[0mmakedirs\u001b[0m\u001b[1;33m(\u001b[0m\u001b[0mNEG_PATH\u001b[0m\u001b[1;33m)\u001b[0m\u001b[1;33m\u001b[0m\u001b[0m\n\u001b[0;32m      4\u001b[0m \u001b[0mos\u001b[0m\u001b[1;33m.\u001b[0m\u001b[0mmakedirs\u001b[0m\u001b[1;33m(\u001b[0m\u001b[0mANC_PATH\u001b[0m\u001b[1;33m)\u001b[0m\u001b[1;33m\u001b[0m\u001b[0m\n",
      "\u001b[1;32m~\\AppData\\Local\\Programs\\Python\\Python37\\lib\\os.py\u001b[0m in \u001b[0;36mmakedirs\u001b[1;34m(name, mode, exist_ok)\u001b[0m\n\u001b[0;32m    219\u001b[0m             \u001b[1;32mreturn\u001b[0m\u001b[1;33m\u001b[0m\u001b[0m\n\u001b[0;32m    220\u001b[0m     \u001b[1;32mtry\u001b[0m\u001b[1;33m:\u001b[0m\u001b[1;33m\u001b[0m\u001b[0m\n\u001b[1;32m--> 221\u001b[1;33m         \u001b[0mmkdir\u001b[0m\u001b[1;33m(\u001b[0m\u001b[0mname\u001b[0m\u001b[1;33m,\u001b[0m \u001b[0mmode\u001b[0m\u001b[1;33m)\u001b[0m\u001b[1;33m\u001b[0m\u001b[0m\n\u001b[0m\u001b[0;32m    222\u001b[0m     \u001b[1;32mexcept\u001b[0m \u001b[0mOSError\u001b[0m\u001b[1;33m:\u001b[0m\u001b[1;33m\u001b[0m\u001b[0m\n\u001b[0;32m    223\u001b[0m         \u001b[1;31m# Cannot rely on checking for EEXIST, since the operating system\u001b[0m\u001b[1;33m\u001b[0m\u001b[1;33m\u001b[0m\u001b[0m\n",
      "\u001b[1;31mFileExistsError\u001b[0m: [WinError 183] Cannot create a file when that file already exists: 'data\\\\positive'"
     ]
    }
   ],
   "source": [
    "# Make the directories\n",
    "os.makedirs(POS_PATH)\n",
    "os.makedirs(NEG_PATH)\n",
    "os.makedirs(ANC_PATH)"
   ]
  },
  {
   "cell_type": "markdown",
   "metadata": {},
   "source": [
    "# 2. Collect Positives and Anchors"
   ]
  },
  {
   "cell_type": "markdown",
   "metadata": {},
   "source": [
    "## 2.1 Untar Labelled Faces in the Wild Dataset"
   ]
  },
  {
   "cell_type": "code",
   "execution_count": 26,
   "metadata": {},
   "outputs": [],
   "source": [
    "# http://vis-www.cs.umass.edu/lfw/"
   ]
  },
  {
   "cell_type": "code",
   "execution_count": 5,
   "metadata": {},
   "outputs": [],
   "source": [
    "# Uncompress Tar GZ Labelled Faces in the Wild Dataset\n",
    "!tar -xf lfw.tgz"
   ]
  },
  {
   "cell_type": "code",
   "execution_count": 7,
   "metadata": {},
   "outputs": [],
   "source": [
    "# Move LFW Images to the following repository data/negative\n",
    "for directory in os.listdir('lfw'):\n",
    "    for file in os.listdir(os.path.join('lfw', directory)):\n",
    "        EX_PATH = os.path.join('lfw', directory, file)\n",
    "        NEW_PATH = os.path.join(NEG_PATH, file)\n",
    "        os.replace(EX_PATH, NEW_PATH)"
   ]
  },
  {
   "cell_type": "markdown",
   "metadata": {},
   "source": [
    "## 2.2 Collect Positive and Anchor Classes"
   ]
  },
  {
   "cell_type": "code",
   "execution_count": 146,
   "metadata": {},
   "outputs": [],
   "source": [
    "# Import uuid library to generate unique image names\n",
    "import uuid"
   ]
  },
  {
   "cell_type": "code",
   "execution_count": 147,
   "metadata": {},
   "outputs": [
    {
     "data": {
      "text/plain": [
       "'data\\\\anchor\\\\4a485f46-d922-11ef-82bc-50ebf68d4469.jpg'"
      ]
     },
     "execution_count": 147,
     "metadata": {},
     "output_type": "execute_result"
    }
   ],
   "source": [
    "os.path.join(ANC_PATH, '{}.jpg'.format(uuid.uuid1()))"
   ]
  },
  {
   "cell_type": "code",
   "execution_count": 148,
   "metadata": {},
   "outputs": [],
   "source": [
    "# Establish a connection to the webcam\n",
    "cap = cv2.VideoCapture(0)\n",
    "\n",
    "while cap.isOpened(): \n",
    "    ret, frame = cap.read()\n",
    "   \n",
    "    # Cut down frame to 250x250px\n",
    "    frame = frame[120:120+250,200:200+250, :]\n",
    "    \n",
    "    # Collect anchors \n",
    "    if cv2.waitKey(1) & 0XFF == ord('a'):\n",
    "        # Create the unique file path \n",
    "        imgname = os.path.join(ANC_PATH, '{}.jpg'.format(uuid.uuid1()))\n",
    "        # Write out anchor image\n",
    "        cv2.imwrite(imgname, frame)\n",
    "    \n",
    "    # Collect positivesq\n",
    "    if cv2.waitKey(1) & 0XFF == ord('p'):\n",
    "        # Create the unique file path \n",
    "        imgname = os.path.join(POS_PATH, '{}.jpg'.format(uuid.uuid1()))\n",
    "        # Write out positive image\n",
    "        cv2.imwrite(imgname, frame)\n",
    "    \n",
    "    # Show image back to screen\n",
    "    cv2.imshow('Image Collection', frame)\n",
    "    \n",
    "    # Breaking gracefully\n",
    "    if cv2.waitKey(1) & 0XFF == ord('q'):\n",
    "        break\n",
    "        \n",
    "# Release the webcamq\n",
    "cap.release()\n",
    "# Close the image show frame\n",
    "cv2.destroyAllWindows()"
   ]
  },
  {
   "cell_type": "code",
   "execution_count": 149,
   "metadata": {},
   "outputs": [
    {
     "data": {
      "text/plain": [
       "<matplotlib.image.AxesImage at 0x159028ef198>"
      ]
     },
     "execution_count": 149,
     "metadata": {},
     "output_type": "execute_result"
    },
    {
     "data": {
      "image/png": "[encoded data removed]",
      "text/plain": [
       "<Figure size 640x480 with 1 Axes>"
      ]
     },
     "metadata": {},
     "output_type": "display_data"
    }
   ],
   "source": [
    "plt.imshow(frame[120:120+250,200:200+250, :])"
   ]
  },
  {
   "cell_type": "markdown",
   "metadata": {},
   "source": [
    "# 3. Load and Preprocess Images"
   ]
  },
  {
   "cell_type": "markdown",
   "metadata": {},
   "source": [
    "## 3.1 Get Image Directories"
   ]
  },
  {
   "cell_type": "code",
   "execution_count": 196,
   "metadata": {},
   "outputs": [],
   "source": [
    "anchor = tf.data.Dataset.list_files(ANC_PATH+'\\*.jpg').take(300)\n",
    "positive = tf.data.Dataset.list_files(POS_PATH+'\\*.jpg').take(300)\n",
    "negative = tf.data.Dataset.list_files(NEG_PATH+'\\*.jpg').take(300)"
   ]
  },
  {
   "cell_type": "code",
   "execution_count": 198,
   "metadata": {},
   "outputs": [
    {
     "data": {
      "text/plain": [
       "300"
      ]
     },
     "execution_count": 198,
     "metadata": {},
     "output_type": "execute_result"
    }
   ],
   "source": [
    "len(anchor)"
   ]
  },
  {
   "cell_type": "code",
   "execution_count": 199,
   "metadata": {},
   "outputs": [],
   "source": [
    "dir_test = anchor.as_numpy_iterator()"
   ]
  },
  {
   "cell_type": "code",
   "execution_count": 200,
   "metadata": {},
   "outputs": [
    {
     "name": "stdout",
     "output_type": "stream",
     "text": [
      "b'data\\\\anchor\\\\faaaa4ee-d90a-11ef-a736-50ebf68d4469.jpg'\n"
     ]
    }
   ],
   "source": [
    "print(dir_test.next())"
   ]
  },
  {
   "cell_type": "markdown",
   "metadata": {},
   "source": [
    "## 3.2 Preprocessing - Scale and Resize"
   ]
  },
  {
   "cell_type": "code",
   "execution_count": 201,
   "metadata": {},
   "outputs": [],
   "source": [
    "def preprocess(file_path):\n",
    "    \n",
    "    # Read in image from file path\n",
    "    byte_img = tf.io.read_file(file_path)\n",
    "    # Load in the image \n",
    "    img = tf.io.decode_jpeg(byte_img)\n",
    "    \n",
    "    # Preprocessing steps - resizing the image to be 100x100x3\n",
    "    img = tf.image.resize(img, (100,100))\n",
    "    # Scale image to be between 0 and 1 \n",
    "    img = img / 255.0\n",
    "    \n",
    "    # Return image\n",
    "    return img"
   ]
  },
  {
   "cell_type": "code",
   "execution_count": 202,
   "metadata": {
    "scrolled": true
   },
   "outputs": [],
   "source": [
    "img = preprocess(dir_test.next())"
   ]
  },
  {
   "cell_type": "code",
   "execution_count": 203,
   "metadata": {},
   "outputs": [
    {
     "data": {
      "text/plain": [
       "0.89436275"
      ]
     },
     "execution_count": 203,
     "metadata": {},
     "output_type": "execute_result"
    }
   ],
   "source": [
    "img.numpy().max() "
   ]
  },
  {
   "cell_type": "code",
   "execution_count": 204,
   "metadata": {},
   "outputs": [
    {
     "data": {
      "text/plain": [
       "<matplotlib.image.AxesImage at 0x15902fb7198>"
      ]
     },
     "execution_count": 204,
     "metadata": {},
     "output_type": "execute_result"
    },
    {
     "data": {
      "image/png": "[encoded data removed]",
      "text/plain": [
       "<Figure size 640x480 with 1 Axes>"
      ]
     },
     "metadata": {},
     "output_type": "display_data"
    }
   ],
   "source": [
    "plt.imshow(img)"
   ]
  },
  {
   "cell_type": "code",
   "execution_count": 205,
   "metadata": {},
   "outputs": [],
   "source": [
    "#dataset.map(preprocess)"
   ]
  },
  {
   "cell_type": "markdown",
   "metadata": {},
   "source": [
    "## 3.3 Create Labelled Dataset"
   ]
  },
  {
   "cell_type": "code",
   "execution_count": 206,
   "metadata": {},
   "outputs": [],
   "source": [
    "# (anchor, positive) => 1,1,1,1,1\n",
    "# (anchor, negative) => 0,0,0,0,0"
   ]
  },
  {
   "cell_type": "code",
   "execution_count": 242,
   "metadata": {},
   "outputs": [],
   "source": [
    "positives = tf.data.Dataset.zip((anchor, positive, tf.data.Dataset.from_tensor_slices(tf.ones(len(anchor)))))\n",
    "negatives = tf.data.Dataset.zip((anchor, negative, tf.data.Dataset.from_tensor_slices(tf.zeros(len(anchor)))))\n",
    "data = positives.concatenate(negatives)"
   ]
  },
  {
   "cell_type": "code",
   "execution_count": 243,
   "metadata": {},
   "outputs": [
    {
     "data": {
      "text/plain": [
       "600"
      ]
     },
     "execution_count": 243,
     "metadata": {},
     "output_type": "execute_result"
    }
   ],
   "source": [
    "len(data)"
   ]
  },
  {
   "cell_type": "code",
   "execution_count": 244,
   "metadata": {},
   "outputs": [],
   "source": [
    "samples = data.as_numpy_iterator()"
   ]
  },
  {
   "cell_type": "code",
   "execution_count": 245,
   "metadata": {},
   "outputs": [],
   "source": [
    "exampple = samples.next()"
   ]
  },
  {
   "cell_type": "code",
   "execution_count": 246,
   "metadata": {},
   "outputs": [
    {
     "data": {
      "text/plain": [
       "(b'data\\\\anchor\\\\fc024a06-d90a-11ef-bd2e-50ebf68d4469.jpg',\n",
       " b'data\\\\positive\\\\013102d8-d90b-11ef-a0c3-50ebf68d4469.jpg',\n",
       " 1.0)"
      ]
     },
     "execution_count": 246,
     "metadata": {},
     "output_type": "execute_result"
    }
   ],
   "source": [
    "exampple"
   ]
  },
  {
   "cell_type": "markdown",
   "metadata": {},
   "source": [
    "## 3.4 Build Train and Test Partition"
   ]
  },
  {
   "cell_type": "code",
   "execution_count": 247,
   "metadata": {},
   "outputs": [],
   "source": [
    "def preprocess_twin(input_img, validation_img, label):\n",
    "    return(preprocess(input_img), preprocess(validation_img), label)"
   ]
  },
  {
   "cell_type": "code",
   "execution_count": 248,
   "metadata": {},
   "outputs": [],
   "source": [
    "res = preprocess_twin(*exampple)"
   ]
  },
  {
   "cell_type": "code",
   "execution_count": 249,
   "metadata": {},
   "outputs": [
    {
     "data": {
      "text/plain": [
       "<matplotlib.image.AxesImage at 0x1590314a160>"
      ]
     },
     "execution_count": 249,
     "metadata": {},
     "output_type": "execute_result"
    },
    {
     "data": {
      "image/png": "[encoded data removed]",
      "text/plain": [
       "<Figure size 640x480 with 1 Axes>"
      ]
     },
     "metadata": {},
     "output_type": "display_data"
    }
   ],
   "source": [
    "plt.imshow(res[1])"
   ]
  },
  {
   "cell_type": "code",
   "execution_count": 250,
   "metadata": {},
   "outputs": [
    {
     "data": {
      "text/plain": [
       "1.0"
      ]
     },
     "execution_count": 250,
     "metadata": {},
     "output_type": "execute_result"
    }
   ],
   "source": [
    "res[2]"
   ]
  },
  {
   "cell_type": "code",
   "execution_count": 251,
   "metadata": {},
   "outputs": [],
   "source": [
    "# Build dataloader pipeline\n",
    "data = data.map(preprocess_twin)\n",
    "data = data.cache()\n",
    "data = data.shuffle(buffer_size=1024)"
   ]
  },
  {
   "cell_type": "code",
   "execution_count": 252,
   "metadata": {},
   "outputs": [
    {
     "data": {
      "text/plain": [
       "600"
      ]
     },
     "execution_count": 252,
     "metadata": {},
     "output_type": "execute_result"
    }
   ],
   "source": [
    "len(data)"
   ]
  },
  {
   "cell_type": "code",
   "execution_count": 253,
   "metadata": {},
   "outputs": [],
   "source": [
    "# Training partition\n",
    "train_data = data.take(round(len(data)*.7))\n",
    "train_data = train_data.batch(16)\n",
    "train_data = train_data.prefetch(8)"
   ]
  },
  {
   "cell_type": "code",
   "execution_count": 254,
   "metadata": {},
   "outputs": [],
   "source": [
    "# Testing partition\n",
    "test_data = data.skip(round(len(data)*.7))\n",
    "test_data = test_data.take(round(len(data)*.3))\n",
    "test_data = test_data.batch(16)\n",
    "test_data = test_data.prefetch(8)"
   ]
  },
  {
   "cell_type": "code",
   "execution_count": 257,
   "metadata": {},
   "outputs": [
    {
     "data": {
      "text/plain": [
       "27"
      ]
     },
     "execution_count": 257,
     "metadata": {},
     "output_type": "execute_result"
    }
   ],
   "source": [
    "len(train_data)"
   ]
  },
  {
   "cell_type": "markdown",
   "metadata": {},
   "source": [
    "# 4. Model Engineering"
   ]
  },
  {
   "cell_type": "markdown",
   "metadata": {},
   "source": [
    "## 4.1 Build Embedding Layer"
   ]
  },
  {
   "cell_type": "code",
   "execution_count": 258,
   "metadata": {},
   "outputs": [],
   "source": [
    "inp = Input(shape=(100,100,3), name='input_image')"
   ]
  },
  {
   "cell_type": "code",
   "execution_count": 259,
   "metadata": {},
   "outputs": [],
   "source": [
    "c1 = Conv2D(64, (10,10), activation='relu')(inp)"
   ]
  },
  {
   "cell_type": "code",
   "execution_count": 260,
   "metadata": {},
   "outputs": [],
   "source": [
    "m1 = MaxPooling2D(64, (2,2), padding='same')(c1)"
   ]
  },
  {
   "cell_type": "code",
   "execution_count": 261,
   "metadata": {},
   "outputs": [],
   "source": [
    "c2 = Conv2D(128, (7,7), activation='relu')(m1)\n",
    "m2 = MaxPooling2D(64, (2,2), padding='same')(c2)"
   ]
  },
  {
   "cell_type": "code",
   "execution_count": 262,
   "metadata": {},
   "outputs": [],
   "source": [
    "c3 = Conv2D(128, (4,4), activation='relu')(m2)\n",
    "m3 = MaxPooling2D(64, (2,2), padding='same')(c3)"
   ]
  },
  {
   "cell_type": "code",
   "execution_count": 263,
   "metadata": {},
   "outputs": [],
   "source": [
    "c4 = Conv2D(256, (4,4), activation='relu')(m3)\n",
    "f1 = Flatten()(c4)\n",
    "d1 = Dense(4096, activation='sigmoid')(f1)"
   ]
  },
  {
   "cell_type": "code",
   "execution_count": 264,
   "metadata": {},
   "outputs": [],
   "source": [
    "mod = Model(inputs=[inp], outputs=[d1], name='embedding')"
   ]
  },
  {
   "cell_type": "code",
   "execution_count": 265,
   "metadata": {},
   "outputs": [
    {
     "name": "stdout",
     "output_type": "stream",
     "text": [
      "Model: \"embedding\"\n",
      "_________________________________________________________________\n",
      "Layer (type)                 Output Shape              Param #   \n",
      "=================================================================\n",
      "input_image (InputLayer)     [(None, 100, 100, 3)]     0         \n",
      "_________________________________________________________________\n",
      "conv2d_8 (Conv2D)            (None, 91, 91, 64)        19264     \n",
      "_________________________________________________________________\n",
      "max_pooling2d_6 (MaxPooling2 (None, 46, 46, 64)        0         \n",
      "_________________________________________________________________\n",
      "conv2d_9 (Conv2D)            (None, 40, 40, 128)       401536    \n",
      "_________________________________________________________________\n",
      "max_pooling2d_7 (MaxPooling2 (None, 20, 20, 128)       0         \n",
      "_________________________________________________________________\n",
      "conv2d_10 (Conv2D)           (None, 17, 17, 128)       262272    \n",
      "_________________________________________________________________\n",
      "max_pooling2d_8 (MaxPooling2 (None, 9, 9, 128)         0         \n",
      "_________________________________________________________________\n",
      "conv2d_11 (Conv2D)           (None, 6, 6, 256)         524544    \n",
      "_________________________________________________________________\n",
      "flatten_2 (Flatten)          (None, 9216)              0         \n",
      "_________________________________________________________________\n",
      "dense_4 (Dense)              (None, 4096)              37752832  \n",
      "=================================================================\n",
      "Total params: 38,960,448\n",
      "Trainable params: 38,960,448\n",
      "Non-trainable params: 0\n",
      "_________________________________________________________________\n"
     ]
    }
   ],
   "source": [
    "mod.summary()"
   ]
  },
  {
   "cell_type": "code",
   "execution_count": 266,
   "metadata": {},
   "outputs": [],
   "source": [
    "def make_embedding(): \n",
    "    inp = Input(shape=(100,100,3), name='input_image')\n",
    "    \n",
    "    # First block\n",
    "    c1 = Conv2D(64, (10,10), activation='relu')(inp)\n",
    "    m1 = MaxPooling2D(64, (2,2), padding='same')(c1)\n",
    "    \n",
    "    # Second block\n",
    "    c2 = Conv2D(128, (7,7), activation='relu')(m1)\n",
    "    m2 = MaxPooling2D(64, (2,2), padding='same')(c2)\n",
    "    \n",
    "    # Third block \n",
    "    c3 = Conv2D(128, (4,4), activation='relu')(m2)\n",
    "    m3 = MaxPooling2D(64, (2,2), padding='same')(c3)\n",
    "    \n",
    "    # Final embedding block\n",
    "    c4 = Conv2D(256, (4,4), activation='relu')(m3)\n",
    "    f1 = Flatten()(c4)\n",
    "    d1 = Dense(4096, activation='sigmoid')(f1)\n",
    "    \n",
    "    \n",
    "    return Model(inputs=[inp], outputs=[d1], name='embedding')"
   ]
  },
  {
   "cell_type": "code",
   "execution_count": 267,
   "metadata": {},
   "outputs": [],
   "source": [
    "embedding = make_embedding()"
   ]
  },
  {
   "cell_type": "code",
   "execution_count": 268,
   "metadata": {},
   "outputs": [
    {
     "name": "stdout",
     "output_type": "stream",
     "text": [
      "Model: \"embedding\"\n",
      "_________________________________________________________________\n",
      "Layer (type)                 Output Shape              Param #   \n",
      "=================================================================\n",
      "input_image (InputLayer)     [(None, 100, 100, 3)]     0         \n",
      "_________________________________________________________________\n",
      "conv2d_12 (Conv2D)           (None, 91, 91, 64)        19264     \n",
      "_________________________________________________________________\n",
      "max_pooling2d_9 (MaxPooling2 (None, 46, 46, 64)        0         \n",
      "_________________________________________________________________\n",
      "conv2d_13 (Conv2D)           (None, 40, 40, 128)       401536    \n",
      "_________________________________________________________________\n",
      "max_pooling2d_10 (MaxPooling (None, 20, 20, 128)       0         \n",
      "_________________________________________________________________\n",
      "conv2d_14 (Conv2D)           (None, 17, 17, 128)       262272    \n",
      "_________________________________________________________________\n",
      "max_pooling2d_11 (MaxPooling (None, 9, 9, 128)         0         \n",
      "_________________________________________________________________\n",
      "conv2d_15 (Conv2D)           (None, 6, 6, 256)         524544    \n",
      "_________________________________________________________________\n",
      "flatten_3 (Flatten)          (None, 9216)              0         \n",
      "_________________________________________________________________\n",
      "dense_5 (Dense)              (None, 4096)              37752832  \n",
      "=================================================================\n",
      "Total params: 38,960,448\n",
      "Trainable params: 38,960,448\n",
      "Non-trainable params: 0\n",
      "_________________________________________________________________\n"
     ]
    }
   ],
   "source": [
    "embedding.summary()"
   ]
  },
  {
   "cell_type": "markdown",
   "metadata": {},
   "source": [
    "## 4.2 Build Distance Layer"
   ]
  },
  {
   "cell_type": "code",
   "execution_count": 269,
   "metadata": {},
   "outputs": [],
   "source": [
    "# Siamese L1 Distance class\n",
    "class L1Dist(Layer):\n",
    "    \n",
    "    # Init method - inheritance\n",
    "    def __init__(self, **kwargs):\n",
    "        super().__init__()\n",
    "       \n",
    "    # Magic happens here - similarity calculation\n",
    "    def call(self, input_embedding, validation_embedding):\n",
    "        return tf.math.abs(input_embedding - validation_embedding)"
   ]
  },
  {
   "cell_type": "code",
   "execution_count": 270,
   "metadata": {},
   "outputs": [],
   "source": [
    "l1 = L1Dist()"
   ]
  },
  {
   "cell_type": "code",
   "execution_count": 271,
   "metadata": {},
   "outputs": [],
   "source": [
    "#l1(anchor_embedding, validation_embedding)"
   ]
  },
  {
   "cell_type": "markdown",
   "metadata": {},
   "source": [
    "## 4.3 Make Siamese Model"
   ]
  },
  {
   "cell_type": "code",
   "execution_count": 272,
   "metadata": {},
   "outputs": [],
   "source": [
    "input_image = Input(name='input_img', shape=(100,100,3))\n",
    "validation_image = Input(name='validation_img', shape=(100,100,3))"
   ]
  },
  {
   "cell_type": "code",
   "execution_count": 273,
   "metadata": {},
   "outputs": [],
   "source": [
    "inp_embedding = embedding(input_image)\n",
    "val_embedding = embedding(validation_image)"
   ]
  },
  {
   "cell_type": "code",
   "execution_count": 274,
   "metadata": {},
   "outputs": [],
   "source": [
    "siamese_layer = L1Dist()"
   ]
  },
  {
   "cell_type": "code",
   "execution_count": 275,
   "metadata": {},
   "outputs": [],
   "source": [
    "distances = siamese_layer(inp_embedding, val_embedding)"
   ]
  },
  {
   "cell_type": "code",
   "execution_count": 276,
   "metadata": {},
   "outputs": [],
   "source": [
    "classifier = Dense(1, activation='sigmoid')(distances)"
   ]
  },
  {
   "cell_type": "code",
   "execution_count": 277,
   "metadata": {},
   "outputs": [
    {
     "data": {
      "text/plain": [
       "<KerasTensor: shape=(None, 1) dtype=float32 (created by layer 'dense_6')>"
      ]
     },
     "execution_count": 277,
     "metadata": {},
     "output_type": "execute_result"
    }
   ],
   "source": [
    "classifier"
   ]
  },
  {
   "cell_type": "code",
   "execution_count": 278,
   "metadata": {},
   "outputs": [],
   "source": [
    "siamese_network = Model(inputs=[input_image, validation_image], outputs=classifier, name='SiameseNetwork')"
   ]
  },
  {
   "cell_type": "code",
   "execution_count": 279,
   "metadata": {},
   "outputs": [
    {
     "name": "stdout",
     "output_type": "stream",
     "text": [
      "Model: \"SiameseNetwork\"\n",
      "__________________________________________________________________________________________________\n",
      "Layer (type)                    Output Shape         Param #     Connected to                     \n",
      "==================================================================================================\n",
      "input_img (InputLayer)          [(None, 100, 100, 3) 0                                            \n",
      "__________________________________________________________________________________________________\n",
      "validation_img (InputLayer)     [(None, 100, 100, 3) 0                                            \n",
      "__________________________________________________________________________________________________\n",
      "embedding (Functional)          (None, 4096)         38960448    input_img[0][0]                  \n",
      "                                                                 validation_img[0][0]             \n",
      "__________________________________________________________________________________________________\n",
      "l1_dist_8 (L1Dist)              (None, 4096)         0           embedding[0][0]                  \n",
      "                                                                 embedding[1][0]                  \n",
      "__________________________________________________________________________________________________\n",
      "dense_6 (Dense)                 (None, 1)            4097        l1_dist_8[0][0]                  \n",
      "==================================================================================================\n",
      "Total params: 38,964,545\n",
      "Trainable params: 38,964,545\n",
      "Non-trainable params: 0\n",
      "__________________________________________________________________________________________________\n"
     ]
    }
   ],
   "source": [
    "siamese_network.summary()"
   ]
  },
  {
   "cell_type": "code",
   "execution_count": 280,
   "metadata": {},
   "outputs": [],
   "source": [
    "def make_siamese_model(): \n",
    "    \n",
    "    # Anchor image input in the network\n",
    "    input_image = Input(name='input_img', shape=(100,100,3))\n",
    "    \n",
    "    # Validation image in the network \n",
    "    validation_image = Input(name='validation_img', shape=(100,100,3))\n",
    "    \n",
    "    # Combine siamese distance components\n",
    "    siamese_layer = L1Dist()\n",
    "    siamese_layer._name = 'distance'\n",
    "    distances = siamese_layer(embedding(input_image), embedding(validation_image))\n",
    "    \n",
    "    # Classification layer \n",
    "    classifier = Dense(1, activation='sigmoid')(distances)\n",
    "    \n",
    "    return Model(inputs=[input_image, validation_image], outputs=classifier, name='SiameseNetwork')"
   ]
  },
  {
   "cell_type": "code",
   "execution_count": 281,
   "metadata": {},
   "outputs": [],
   "source": [
    "siamese_model = make_siamese_model()"
   ]
  },
  {
   "cell_type": "code",
   "execution_count": 282,
   "metadata": {},
   "outputs": [
    {
     "name": "stdout",
     "output_type": "stream",
     "text": [
      "Model: \"SiameseNetwork\"\n",
      "__________________________________________________________________________________________________\n",
      "Layer (type)                    Output Shape         Param #     Connected to                     \n",
      "==================================================================================================\n",
      "input_img (InputLayer)          [(None, 100, 100, 3) 0                                            \n",
      "__________________________________________________________________________________________________\n",
      "validation_img (InputLayer)     [(None, 100, 100, 3) 0                                            \n",
      "__________________________________________________________________________________________________\n",
      "embedding (Functional)          (None, 4096)         38960448    input_img[0][0]                  \n",
      "                                                                 validation_img[0][0]             \n",
      "__________________________________________________________________________________________________\n",
      "distance (L1Dist)               (None, 4096)         0           embedding[2][0]                  \n",
      "                                                                 embedding[3][0]                  \n",
      "__________________________________________________________________________________________________\n",
      "dense_7 (Dense)                 (None, 1)            4097        distance[0][0]                   \n",
      "==================================================================================================\n",
      "Total params: 38,964,545\n",
      "Trainable params: 38,964,545\n",
      "Non-trainable params: 0\n",
      "__________________________________________________________________________________________________\n"
     ]
    }
   ],
   "source": [
    "siamese_model.summary()"
   ]
  },
  {
   "cell_type": "markdown",
   "metadata": {},
   "source": [
    "# 5. Training"
   ]
  },
  {
   "cell_type": "markdown",
   "metadata": {},
   "source": [
    "## 5.1 Setup Loss and Optimizer"
   ]
  },
  {
   "cell_type": "code",
   "execution_count": 283,
   "metadata": {},
   "outputs": [],
   "source": [
    "binary_cross_loss = tf.losses.BinaryCrossentropy()"
   ]
  },
  {
   "cell_type": "code",
   "execution_count": 284,
   "metadata": {},
   "outputs": [],
   "source": [
    "opt = tf.keras.optimizers.Adam(1e-4) # 0.0001"
   ]
  },
  {
   "cell_type": "markdown",
   "metadata": {},
   "source": [
    "## 5.2 Establish Checkpoints"
   ]
  },
  {
   "cell_type": "code",
   "execution_count": 285,
   "metadata": {},
   "outputs": [],
   "source": [
    "checkpoint_dir = './training_checkpoints'\n",
    "checkpoint_prefix = os.path.join(checkpoint_dir, 'ckpt')\n",
    "checkpoint = tf.train.Checkpoint(opt=opt, siamese_model=siamese_model)"
   ]
  },
  {
   "cell_type": "markdown",
   "metadata": {},
   "source": [
    "## 5.3 Build Train Step Function"
   ]
  },
  {
   "cell_type": "code",
   "execution_count": 286,
   "metadata": {},
   "outputs": [],
   "source": [
    "test_batch = train_data.as_numpy_iterator()"
   ]
  },
  {
   "cell_type": "code",
   "execution_count": 287,
   "metadata": {},
   "outputs": [],
   "source": [
    "batch_1 = test_batch.next()"
   ]
  },
  {
   "cell_type": "code",
   "execution_count": 288,
   "metadata": {},
   "outputs": [],
   "source": [
    "X = batch_1[:2]"
   ]
  },
  {
   "cell_type": "code",
   "execution_count": 289,
   "metadata": {},
   "outputs": [],
   "source": [
    "y = batch_1[2]"
   ]
  },
  {
   "cell_type": "code",
   "execution_count": 290,
   "metadata": {},
   "outputs": [
    {
     "data": {
      "text/plain": [
       "array([1., 1., 1., 1., 0., 0., 0., 1., 1., 0., 0., 0., 1., 0., 0., 0.],\n",
       "      dtype=float32)"
      ]
     },
     "execution_count": 290,
     "metadata": {},
     "output_type": "execute_result"
    }
   ],
   "source": [
    "y"
   ]
  },
  {
   "cell_type": "code",
   "execution_count": 291,
   "metadata": {},
   "outputs": [],
   "source": [
    "tf.losses.BinaryCrossentropy??"
   ]
  },
  {
   "cell_type": "code",
   "execution_count": 292,
   "metadata": {},
   "outputs": [],
   "source": [
    "@tf.function\n",
    "def train_step(batch):\n",
    "    \n",
    "    # Record all of our operations \n",
    "    with tf.GradientTape() as tape:     \n",
    "        # Get anchor and positive/negative image\n",
    "        X = batch[:2]\n",
    "        # Get label\n",
    "        y = batch[2]\n",
    "        \n",
    "        # Forward pass\n",
    "        yhat = siamese_model(X, training=True)\n",
    "        # Calculate loss\n",
    "        loss = binary_cross_loss(y, yhat)\n",
    "        \n",
    "    tf.print(\"Loss: \", loss)  # Use tf.print for TensorFlow graph execution\n",
    "        \n",
    "    # Calculate gradients\n",
    "    grad = tape.gradient(loss, siamese_model.trainable_variables)\n",
    "    \n",
    "    # Calculate updated weights and apply to siamese model\n",
    "    opt.apply_gradients(zip(grad, siamese_model.trainable_variables))\n",
    "    \n",
    "    # Return loss\n",
    "    return loss"
   ]
  },
  {
   "cell_type": "markdown",
   "metadata": {},
   "source": [
    "## 5.4 Build Training Loop"
   ]
  },
  {
   "cell_type": "code",
   "execution_count": 293,
   "metadata": {},
   "outputs": [],
   "source": [
    "def train(data, EPOCHS):\n",
    "    # Loop through epochs\n",
    "    for epoch in range(1, EPOCHS + 1):\n",
    "        print('\\n Epoch {}/{}'.format(epoch, EPOCHS))\n",
    "        # Calculate the number of steps per epoch\n",
    "        steps_per_epoch = len(data) \n",
    "        \n",
    "        progbar = tf.keras.utils.Progbar(steps_per_epoch) \n",
    "                \n",
    "        # Loop through each batch\n",
    "        for idx, batch in enumerate(data):\n",
    "            # Run train step here\n",
    "            train_step(batch)\n",
    "            progbar.update(idx+1)\n",
    "        \n",
    "        # Save checkpoints\n",
    "        if epoch % 10 == 0: \n",
    "            checkpoint.save(file_prefix=checkpoint_prefix)"
   ]
  },
  {
   "cell_type": "markdown",
   "metadata": {},
   "source": [
    "## 5.5 Train the model"
   ]
  },
  {
   "cell_type": "code",
   "execution_count": 294,
   "metadata": {},
   "outputs": [],
   "source": [
    "EPOCHS = 50"
   ]
  },
  {
   "cell_type": "code",
   "execution_count": 295,
   "metadata": {
    "scrolled": true
   },
   "outputs": [
    {
     "name": "stdout",
     "output_type": "stream",
     "text": [
      "\n",
      " Epoch 1/50\n",
      "Loss:  0.692153633\n",
      " 1/27 [>.............................] - ETA: 6:20Loss:  0.665540814\n",
      " 2/27 [=>............................] - ETA: 5:45Loss:  0.64387095\n",
      " 3/27 [==>...........................] - ETA: 5:35Loss:  0.606155\n",
      " 4/27 [===>..........................] - ETA: 5:27Loss:  0.586834908\n",
      " 5/27 [====>.........................] - ETA: 5:18Loss:  0.598251\n",
      " 6/27 [=====>........................] - ETA: 5:15Loss:  0.442783\n",
      " 7/27 [======>.......................] - ETA: 5:08Loss:  0.522453547\n",
      " 8/27 [=======>......................] - ETA: 4:57Loss:  0.478709191\n",
      " 9/27 [=========>....................] - ETA: 4:46Loss:  0.326065093\n",
      "10/27 [==========>...................] - ETA: 4:31Loss:  0.526684582\n",
      "11/27 [===========>..................] - ETA: 4:14Loss:  0.45294565\n",
      "12/27 [============>.................] - ETA: 3:56Loss:  0.415578544\n",
      "13/27 [=============>................] - ETA: 3:39Loss:  0.417655885\n",
      "14/27 [==============>...............] - ETA: 3:23Loss:  0.627668142\n",
      "15/27 [===============>..............] - ETA: 3:06Loss:  0.415351927\n",
      "16/27 [================>.............] - ETA: 2:50Loss:  0.27646789\n",
      "17/27 [=================>............] - ETA: 2:34Loss:  0.406357825\n",
      "18/27 [===================>..........] - ETA: 2:19Loss:  0.363541812\n",
      "19/27 [====================>.........] - ETA: 2:03Loss:  0.238312796\n",
      "20/27 [=====================>........] - ETA: 1:47Loss:  0.189336151\n",
      "21/27 [======================>.......] - ETA: 1:31Loss:  0.262843192\n",
      "22/27 [=======================>......] - ETA: 1:16Loss:  0.163475052\n",
      "23/27 [========================>.....] - ETA: 1:01Loss:  0.235470042\n",
      "24/27 [=========================>....] - ETA: 45s Loss:  0.202581108\n",
      "25/27 [==========================>...] - ETA: 30sLoss:  0.218556657\n",
      "26/27 [===========================>..] - ETA: 15sLoss:  0.0285233501\n",
      "27/27 [==============================] - 397s 15s/step\n",
      "\n",
      " Epoch 2/50\n",
      "Loss:  0.130458951\n",
      " 1/27 [>.............................] - ETA: 6:03Loss:  0.0474879518\n",
      " 2/27 [=>............................] - ETA: 6:00Loss:  0.365154624\n",
      " 3/27 [==>...........................] - ETA: 5:56Loss:  0.189005598\n",
      " 4/27 [===>..........................] - ETA: 5:35Loss:  0.140894055\n",
      " 5/27 [====>.........................] - ETA: 5:18Loss:  0.12664102\n",
      " 6/27 [=====>........................] - ETA: 5:04Loss:  0.256393284\n",
      " 7/27 [======>.......................] - ETA: 4:48Loss:  0.328454792\n",
      " 8/27 [=======>......................] - ETA: 4:37Loss:  0.27961117\n",
      " 9/27 [=========>....................] - ETA: 4:24Loss:  0.147037551\n",
      "10/27 [==========>...................] - ETA: 4:08Loss:  0.125670508\n",
      "11/27 [===========>..................] - ETA: 3:52Loss:  0.162038952\n",
      "12/27 [============>.................] - ETA: 3:37Loss:  0.271291316\n",
      "13/27 [=============>................] - ETA: 3:23Loss:  0.053639181\n",
      "14/27 [==============>...............] - ETA: 3:09Loss:  0.124711677\n",
      "15/27 [===============>..............] - ETA: 2:54Loss:  0.151023254\n",
      "16/27 [================>.............] - ETA: 2:39Loss:  0.110970542\n",
      "17/27 [=================>............] - ETA: 2:25Loss:  0.144134566\n",
      "18/27 [===================>..........] - ETA: 2:10Loss:  0.0956420451\n",
      "19/27 [====================>.........] - ETA: 1:56Loss:  0.034290731\n",
      "20/27 [=====================>........] - ETA: 1:41Loss:  0.0669000372\n",
      "21/27 [======================>.......] - ETA: 1:27Loss:  0.0909677222\n",
      "22/27 [=======================>......] - ETA: 1:12Loss:  0.0809137374\n",
      "23/27 [========================>.....] - ETA: 58s Loss:  0.130055562\n",
      "24/27 [=========================>....] - ETA: 43sLoss:  0.177329779\n",
      "25/27 [==========================>...] - ETA: 28sLoss:  0.126089752\n",
      "26/27 [===========================>..] - ETA: 14sLoss:  0.230375364\n",
      "27/27 [==============================] - 381s 14s/step\n",
      "\n",
      " Epoch 3/50\n",
      "Loss:  0.0910523683\n",
      " 1/27 [>.............................] - ETA: 6:31Loss:  0.10805846\n",
      " 2/27 [=>............................] - ETA: 5:58Loss:  0.0771062\n",
      " 3/27 [==>...........................] - ETA: 5:44Loss:  0.128625244\n",
      " 4/27 [===>..........................] - ETA: 5:28Loss:  0.0396591686\n",
      " 5/27 [====>.........................] - ETA: 5:13Loss:  0.1105932\n",
      " 6/27 [=====>........................] - ETA: 5:00Loss:  0.0598927327\n",
      " 7/27 [======>.......................] - ETA: 4:50Loss:  0.0554818325\n",
      " 8/27 [=======>......................] - ETA: 4:35Loss:  0.111096948\n",
      " 9/27 [=========>....................] - ETA: 4:21Loss:  0.0315567553\n",
      "10/27 [==========>...................] - ETA: 4:06Loss:  0.0365430303\n",
      "11/27 [===========>..................] - ETA: 3:51Loss:  0.0145903537\n",
      "12/27 [============>.................] - ETA: 3:37Loss:  0.0128304353\n",
      "13/27 [=============>................] - ETA: 3:23Loss:  0.253400385\n",
      "14/27 [==============>...............] - ETA: 3:09Loss:  0.0604119487\n",
      "15/27 [===============>..............] - ETA: 2:54Loss:  0.0721758753\n",
      "16/27 [================>.............] - ETA: 2:40Loss:  0.0364386812\n",
      "17/27 [=================>............] - ETA: 2:25Loss:  0.0235886481\n",
      "18/27 [===================>..........] - ETA: 2:10Loss:  0.211536065\n",
      "19/27 [====================>.........] - ETA: 1:56Loss:  0.109673798\n",
      "20/27 [=====================>........] - ETA: 1:41Loss:  0.135924622\n",
      "21/27 [======================>.......] - ETA: 1:26Loss:  0.0834064\n",
      "22/27 [=======================>......] - ETA: 1:12Loss:  0.110121794\n",
      "23/27 [========================>.....] - ETA: 57s Loss:  0.216426805\n",
      "24/27 [=========================>....] - ETA: 43sLoss:  0.0812417567\n",
      "25/27 [==========================>...] - ETA: 28sLoss:  0.44127\n",
      "26/27 [===========================>..] - ETA: 14sLoss:  0.000315192039\n",
      "27/27 [==============================] - 381s 14s/step\n",
      "\n",
      " Epoch 4/50\n",
      "Loss:  0.682814777\n",
      " 1/27 [>.............................] - ETA: 6:05Loss:  0.307282627\n",
      " 2/27 [=>............................] - ETA: 5:49Loss:  0.144459248\n",
      " 3/27 [==>...........................] - ETA: 5:36Loss:  0.113732159\n",
      " 4/27 [===>..........................] - ETA: 5:22Loss:  0.124308333\n",
      " 5/27 [====>.........................] - ETA: 5:17Loss:  0.279608\n",
      " 6/27 [=====>........................] - ETA: 5:02Loss:  0.266892761\n",
      " 7/27 [======>.......................] - ETA: 4:46Loss:  0.385038853\n",
      " 8/27 [=======>......................] - ETA: 4:32Loss:  0.263251543\n",
      " 9/27 [=========>....................] - ETA: 4:18Loss:  0.137015253\n",
      "10/27 [==========>...................] - ETA: 4:03Loss:  0.231819049\n",
      "11/27 [===========>..................] - ETA: 3:51Loss:  0.347946137\n",
      "12/27 [============>.................] - ETA: 3:36Loss:  0.141939804\n",
      "13/27 [=============>................] - ETA: 3:22Loss:  0.103789143\n",
      "14/27 [==============>...............] - ETA: 3:07Loss:  0.110371165\n",
      "15/27 [===============>..............] - ETA: 2:52Loss:  0.212352037\n",
      "16/27 [================>.............] - ETA: 2:38Loss:  0.142613709\n",
      "17/27 [=================>............] - ETA: 2:24Loss:  0.060497582\n",
      "18/27 [===================>..........] - ETA: 2:10Loss:  0.294858158\n",
      "19/27 [====================>.........] - ETA: 1:55Loss:  0.167631462\n",
      "20/27 [=====================>........] - ETA: 1:40Loss:  0.0668966919\n",
      "21/27 [======================>.......] - ETA: 1:26Loss:  0.0678524226\n",
      "22/27 [=======================>......] - ETA: 1:12Loss:  0.0818218738\n",
      "23/27 [========================>.....] - ETA: 57s Loss:  0.132458955\n",
      "24/27 [=========================>....] - ETA: 43sLoss:  0.0881242901\n",
      "25/27 [==========================>...] - ETA: 28sLoss:  0.0562392585\n",
      "26/27 [===========================>..] - ETA: 14sLoss:  0.167154923\n",
      "27/27 [==============================] - 379s 14s/step\n",
      "\n",
      " Epoch 5/50\n",
      "Loss:  0.0314434431\n",
      " 1/27 [>.............................] - ETA: 6:05Loss:  0.0472039059\n",
      " 2/27 [=>............................] - ETA: 5:51Loss:  0.0582052693\n",
      " 3/27 [==>...........................] - ETA: 5:47Loss:  0.0217717439\n",
      " 4/27 [===>..........................] - ETA: 5:35Loss:  0.0137134381\n",
      " 5/27 [====>.........................] - ETA: 5:19Loss:  0.022733923\n",
      " 6/27 [=====>........................] - ETA: 5:03Loss:  0.0229593739\n",
      " 7/27 [======>.......................] - ETA: 4:46Loss:  0.102876455\n",
      " 8/27 [=======>......................] - ETA: 4:33Loss:  0.0592237897\n",
      " 9/27 [=========>....................] - ETA: 4:17Loss:  0.0151171368\n"
     ]
    },
    {
     "name": "stdout",
     "output_type": "stream",
     "text": [
      "10/27 [==========>...................] - ETA: 4:04Loss:  0.0189831946\n",
      "11/27 [===========>..................] - ETA: 3:49Loss:  0.0387534499\n",
      "12/27 [============>.................] - ETA: 3:34Loss:  0.111557983\n",
      "13/27 [=============>................] - ETA: 3:20Loss:  0.0462943614\n",
      "14/27 [==============>...............] - ETA: 3:05Loss:  0.0403781757\n",
      "15/27 [===============>..............] - ETA: 2:51Loss:  0.0731232\n",
      "16/27 [================>.............] - ETA: 2:37Loss:  0.121147111\n",
      "17/27 [=================>............] - ETA: 2:22Loss:  0.0840173662\n",
      "18/27 [===================>..........] - ETA: 2:08Loss:  0.0692629069\n",
      "19/27 [====================>.........] - ETA: 1:53Loss:  0.00500353705\n",
      "20/27 [=====================>........] - ETA: 1:39Loss:  0.0702415258\n",
      "21/27 [======================>.......] - ETA: 1:25Loss:  0.0288693458\n",
      "22/27 [=======================>......] - ETA: 1:11Loss:  0.078967467\n",
      "23/27 [========================>.....] - ETA: 57s Loss:  0.0768176764\n",
      "24/27 [=========================>....] - ETA: 42sLoss:  0.0972232074\n",
      "25/27 [==========================>...] - ETA: 28sLoss:  0.067790024\n",
      "26/27 [===========================>..] - ETA: 14sLoss:  0.029125154\n",
      "27/27 [==============================] - 374s 14s/step\n",
      "\n",
      " Epoch 6/50\n",
      "Loss:  0.00334386458\n",
      " 1/27 [>.............................] - ETA: 6:06Loss:  0.171137944\n",
      " 2/27 [=>............................] - ETA: 6:10Loss:  0.0281318575\n",
      " 3/27 [==>...........................] - ETA: 5:52Loss:  0.0126396911\n",
      " 4/27 [===>..........................] - ETA: 5:30Loss:  0.0142602138\n",
      " 5/27 [====>.........................] - ETA: 5:14Loss:  0.0327732675\n",
      " 6/27 [=====>........................] - ETA: 5:00Loss:  0.00605369871\n",
      " 7/27 [======>.......................] - ETA: 4:44Loss:  0.101320386\n",
      " 8/27 [=======>......................] - ETA: 4:32Loss:  0.0264667831\n",
      " 9/27 [=========>....................] - ETA: 4:18Loss:  0.0672809631\n",
      "10/27 [==========>...................] - ETA: 4:02Loss:  0.00790588\n",
      "11/27 [===========>..................] - ETA: 3:47Loss:  0.00804051198\n",
      "12/27 [============>.................] - ETA: 3:34Loss:  0.00250634644\n",
      "13/27 [=============>................] - ETA: 3:19Loss:  0.0750032961\n",
      "14/27 [==============>...............] - ETA: 3:06Loss:  0.0531826504\n",
      "15/27 [===============>..............] - ETA: 2:52Loss:  0.00372345839\n",
      "16/27 [================>.............] - ETA: 2:37Loss:  0.00534944702\n",
      "17/27 [=================>............] - ETA: 2:22Loss:  0.0353027917\n",
      "18/27 [===================>..........] - ETA: 2:08Loss:  0.107837826\n",
      "19/27 [====================>.........] - ETA: 1:54Loss:  0.0249812119\n",
      "20/27 [=====================>........] - ETA: 1:40Loss:  0.0297028851\n",
      "21/27 [======================>.......] - ETA: 1:26Loss:  0.0584108979\n",
      "22/27 [=======================>......] - ETA: 1:11Loss:  0.00213813223\n",
      "23/27 [========================>.....] - ETA: 57s Loss:  0.0644341186\n",
      "24/27 [=========================>....] - ETA: 43sLoss:  0.0799785554\n",
      "25/27 [==========================>...] - ETA: 28sLoss:  0.0148196993\n",
      "26/27 [===========================>..] - ETA: 14sLoss:  0.100418068\n",
      "27/27 [==============================] - 378s 14s/step\n",
      "\n",
      " Epoch 7/50\n",
      "Loss:  0.00263160956\n",
      " 1/27 [>.............................] - ETA: 6:05Loss:  0.00336135249\n",
      " 2/27 [=>............................] - ETA: 6:26Loss:  0.0478001\n",
      " 3/27 [==>...........................] - ETA: 6:01Loss:  0.0216797553\n",
      " 4/27 [===>..........................] - ETA: 5:37Loss:  0.187432244\n",
      " 5/27 [====>.........................] - ETA: 5:17Loss:  0.0254494771\n",
      " 6/27 [=====>........................] - ETA: 5:04Loss:  0.0137010673\n",
      " 7/27 [======>.......................] - ETA: 4:48Loss:  0.0436004624\n",
      " 8/27 [=======>......................] - ETA: 4:33Loss:  0.0148153268\n",
      " 9/27 [=========>....................] - ETA: 4:20Loss:  0.016757952\n",
      "10/27 [==========>...................] - ETA: 4:06Loss:  0.000578903477\n",
      "11/27 [===========>..................] - ETA: 3:51Loss:  0.0147113279\n",
      "12/27 [============>.................] - ETA: 3:36Loss:  0.00323041\n",
      "13/27 [=============>................] - ETA: 3:22Loss:  0.0183554068\n",
      "14/27 [==============>...............] - ETA: 3:08Loss:  0.0428786427\n",
      "15/27 [===============>..............] - ETA: 2:55Loss:  0.0410371162\n",
      "16/27 [================>.............] - ETA: 2:40Loss:  0.0121392123\n",
      "17/27 [=================>............] - ETA: 2:25Loss:  0.0284828693\n",
      "18/27 [===================>..........] - ETA: 2:10Loss:  0.0161072798\n",
      "19/27 [====================>.........] - ETA: 1:56Loss:  0.0878508538\n",
      "20/27 [=====================>........] - ETA: 1:41Loss:  0.0438679084\n",
      "21/27 [======================>.......] - ETA: 1:27Loss:  0.020937752\n",
      "22/27 [=======================>......] - ETA: 1:12Loss:  0.0558739156\n",
      "23/27 [========================>.....] - ETA: 58s Loss:  0.00163223362\n",
      "24/27 [=========================>....] - ETA: 43sLoss:  0.00875997543\n",
      "25/27 [==========================>...] - ETA: 29sLoss:  0.0088866\n",
      "26/27 [===========================>..] - ETA: 14sLoss:  0.16323337\n",
      "27/27 [==============================] - 381s 14s/step\n",
      "\n",
      " Epoch 8/50\n",
      "Loss:  0.00058908324\n",
      " 1/27 [>.............................] - ETA: 6:33Loss:  0.0166188814\n",
      " 2/27 [=>............................] - ETA: 6:03Loss:  0.000862009823\n",
      " 3/27 [==>...........................] - ETA: 5:49Loss:  0.019410491\n",
      " 4/27 [===>..........................] - ETA: 5:33Loss:  0.0003766632\n",
      " 5/27 [====>.........................] - ETA: 5:16Loss:  0.0246876907\n",
      " 6/27 [=====>........................] - ETA: 5:01Loss:  0.000345951441\n",
      " 7/27 [======>.......................] - ETA: 4:46Loss:  0.0156869479\n",
      " 8/27 [=======>......................] - ETA: 4:34Loss:  0.164769471\n",
      " 9/27 [=========>....................] - ETA: 4:20Loss:  0.0202164408\n",
      "10/27 [==========>...................] - ETA: 4:05Loss:  0.0415321\n",
      "11/27 [===========>..................] - ETA: 3:50Loss:  0.195982039\n",
      "12/27 [============>.................] - ETA: 3:36Loss:  0.0674588829\n",
      "13/27 [=============>................] - ETA: 3:21Loss:  1.31152177\n",
      "14/27 [==============>...............] - ETA: 3:07Loss:  0.101052977\n",
      "15/27 [===============>..............] - ETA: 2:53Loss:  0.174525484\n",
      "16/27 [================>.............] - ETA: 2:38Loss:  0.477296114\n",
      "17/27 [=================>............] - ETA: 2:24Loss:  0.375217527\n",
      "18/27 [===================>..........] - ETA: 2:09Loss:  0.822753549\n",
      "19/27 [====================>.........] - ETA: 1:55Loss:  0.715202928\n",
      "20/27 [=====================>........] - ETA: 1:40Loss:  0.641259909\n",
      "21/27 [======================>.......] - ETA: 1:26Loss:  0.698787332\n",
      "22/27 [=======================>......] - ETA: 1:12Loss:  0.694964647\n",
      "23/27 [========================>.....] - ETA: 3:24Loss:  0.586189747\n",
      "24/27 [=========================>....] - ETA: 2:28Loss:  0.732239\n",
      "25/27 [==========================>...] - ETA: 1:36Loss:  0.50789243\n",
      "26/27 [===========================>..] - ETA: 46s Loss:  0.406099409\n",
      "27/27 [==============================] - 1190s 45s/step\n",
      "\n",
      " Epoch 9/50\n",
      "Loss:  0.643996119\n",
      " 1/27 [>.............................] - ETA: 6:51Loss:  0.511659384\n",
      " 2/27 [=>............................] - ETA: 6:47Loss:  0.504858911\n",
      " 3/27 [==>...........................] - ETA: 6:23Loss:  0.61479497\n",
      " 4/27 [===>..........................] - ETA: 6:08Loss:  0.541405678\n",
      " 5/27 [====>.........................] - ETA: 5:50Loss:  0.355077952\n",
      " 6/27 [=====>........................] - ETA: 5:33Loss:  0.506682277\n",
      " 7/27 [======>.......................] - ETA: 5:16Loss:  0.733293653\n",
      " 8/27 [=======>......................] - ETA: 5:02Loss:  0.497351587\n",
      " 9/27 [=========>....................] - ETA: 4:45Loss:  0.414323419\n",
      "10/27 [==========>...................] - ETA: 4:29Loss:  0.479575098\n",
      "11/27 [===========>..................] - ETA: 4:13Loss:  0.534767926\n",
      "12/27 [============>.................] - ETA: 3:58Loss:  0.308870494\n",
      "13/27 [=============>................] - ETA: 3:42Loss:  0.204206496\n",
      "14/27 [==============>...............] - ETA: 3:25Loss:  0.44462204\n",
      "15/27 [===============>..............] - ETA: 3:09Loss:  0.262640268\n",
      "16/27 [================>.............] - ETA: 2:54Loss:  0.607078\n",
      "17/27 [=================>............] - ETA: 2:38Loss:  0.0878808126\n",
      "18/27 [===================>..........] - ETA: 2:22Loss:  0.400709331\n"
     ]
    },
    {
     "name": "stdout",
     "output_type": "stream",
     "text": [
      "19/27 [====================>.........] - ETA: 2:06Loss:  0.481396198\n",
      "20/27 [=====================>........] - ETA: 1:50Loss:  0.493644953\n",
      "21/27 [======================>.......] - ETA: 1:34Loss:  0.228662223\n",
      "22/27 [=======================>......] - ETA: 1:18Loss:  0.451426208\n",
      "23/27 [========================>.....] - ETA: 1:03Loss:  0.533739507\n",
      "24/27 [=========================>....] - ETA: 47s Loss:  0.311600864\n",
      "25/27 [==========================>...] - ETA: 31sLoss:  0.341493\n",
      "26/27 [===========================>..] - ETA: 15sLoss:  0.0325650275\n",
      "27/27 [==============================] - 414s 15s/step\n",
      "\n",
      " Epoch 10/50\n",
      "Loss:  0.423123896\n",
      " 1/27 [>.............................] - ETA: 6:57Loss:  0.403679252\n",
      " 2/27 [=>............................] - ETA: 6:25Loss:  0.377998888\n",
      " 3/27 [==>...........................] - ETA: 6:06Loss:  0.445839077\n",
      " 4/27 [===>..........................] - ETA: 5:51Loss:  0.338032156\n",
      " 5/27 [====>.........................] - ETA: 5:40Loss:  0.346548736\n",
      " 6/27 [=====>........................] - ETA: 5:24Loss:  0.513890207\n",
      " 7/27 [======>.......................] - ETA: 5:09Loss:  0.282372892\n",
      " 8/27 [=======>......................] - ETA: 4:53Loss:  0.345213115\n",
      " 9/27 [=========>....................] - ETA: 4:38Loss:  0.454450369\n",
      "10/27 [==========>...................] - ETA: 4:23Loss:  0.38869974\n",
      "11/27 [===========>..................] - ETA: 4:07Loss:  0.527761102\n",
      "12/27 [============>.................] - ETA: 3:51Loss:  0.620932162\n",
      "13/27 [=============>................] - ETA: 3:37Loss:  0.392287046\n",
      "14/27 [==============>...............] - ETA: 3:21Loss:  0.333330363\n",
      "15/27 [===============>..............] - ETA: 3:06Loss:  0.317565024\n",
      "16/27 [================>.............] - ETA: 2:50Loss:  0.354072481\n",
      "17/27 [=================>............] - ETA: 2:35Loss:  0.281962633\n",
      "18/27 [===================>..........] - ETA: 2:20Loss:  0.423799753\n",
      "19/27 [====================>.........] - ETA: 2:04Loss:  0.337067097\n",
      "20/27 [=====================>........] - ETA: 1:49Loss:  0.432862043\n",
      "21/27 [======================>.......] - ETA: 1:33Loss:  0.51393652\n",
      "22/27 [=======================>......] - ETA: 1:18Loss:  0.386991143\n",
      "23/27 [========================>.....] - ETA: 1:02Loss:  0.380767912\n",
      "24/27 [=========================>....] - ETA: 47s Loss:  0.483508527\n",
      "25/27 [==========================>...] - ETA: 31sLoss:  0.267554015\n",
      "26/27 [===========================>..] - ETA: 15sLoss:  0.532351375\n",
      "27/27 [==============================] - 412s 15s/step\n",
      "\n",
      " Epoch 11/50\n",
      "Loss:  0.289873421\n",
      " 1/27 [>.............................] - ETA: 7:00Loss:  0.467033565\n",
      " 2/27 [=>............................] - ETA: 6:35Loss:  0.261439204\n",
      " 3/27 [==>...........................] - ETA: 6:13Loss:  0.332553715\n",
      " 4/27 [===>..........................] - ETA: 5:57Loss:  0.42560941\n",
      " 5/27 [====>.........................] - ETA: 5:41Loss:  0.45738259\n",
      " 6/27 [=====>........................] - ETA: 5:24Loss:  0.482451916\n",
      " 7/27 [======>.......................] - ETA: 5:10Loss:  0.3616907\n",
      " 8/27 [=======>......................] - ETA: 4:54Loss:  0.429995298\n",
      " 9/27 [=========>....................] - ETA: 4:41Loss:  0.242020205\n",
      "10/27 [==========>...................] - ETA: 4:25Loss:  0.333313853\n",
      "11/27 [===========>..................] - ETA: 4:10Loss:  0.234312832\n",
      "12/27 [============>.................] - ETA: 3:54Loss:  0.366840273\n",
      "13/27 [=============>................] - ETA: 3:39Loss:  0.362912685\n",
      "14/27 [==============>...............] - ETA: 3:24Loss:  0.362786472\n",
      "15/27 [===============>..............] - ETA: 3:08Loss:  0.48800844\n",
      "16/27 [================>.............] - ETA: 2:52Loss:  0.272915125\n",
      "17/27 [=================>............] - ETA: 2:37Loss:  0.189822778\n",
      "18/27 [===================>..........] - ETA: 2:21Loss:  0.35550347\n",
      "19/27 [====================>.........] - ETA: 2:06Loss:  0.35985738\n",
      "20/27 [=====================>........] - ETA: 1:50Loss:  0.487263858\n",
      "21/27 [======================>.......] - ETA: 1:34Loss:  0.441538572\n",
      "22/27 [=======================>......] - ETA: 1:18Loss:  0.437071413\n",
      "23/27 [========================>.....] - ETA: 1:02Loss:  0.21880123\n",
      "24/27 [=========================>....] - ETA: 47s Loss:  0.222881049\n",
      "25/27 [==========================>...] - ETA: 31sLoss:  0.270951629\n",
      "26/27 [===========================>..] - ETA: 15sLoss:  0.497382313\n",
      "27/27 [==============================] - 414s 15s/step\n",
      "\n",
      " Epoch 12/50\n",
      "Loss:  0.453796983\n",
      " 1/27 [>.............................] - ETA: 10:48:46Loss:  0.373755664\n",
      " 2/27 [=>............................] - ETA: 8:18    Loss:  0.33173883\n",
      " 3/27 [==>...........................] - ETA: 7:46Loss:  0.419158697\n",
      " 4/27 [===>..........................] - ETA: 7:33Loss:  0.381866217\n",
      " 5/27 [====>.........................] - ETA: 7:06Loss:  0.402704179\n",
      " 6/27 [=====>........................] - ETA: 6:36Loss:  0.318751633\n",
      " 7/27 [======>.......................] - ETA: 6:09Loss:  0.369789839\n",
      " 8/27 [=======>......................] - ETA: 5:46Loss:  0.365880489\n",
      " 9/27 [=========>....................] - ETA: 5:24Loss:  0.343589395\n",
      "10/27 [==========>...................] - ETA: 5:03Loss:  0.370633036\n",
      "11/27 [===========>..................] - ETA: 4:43Loss:  0.229848236\n",
      "12/27 [============>.................] - ETA: 4:24Loss:  0.294283599\n",
      "13/27 [=============>................] - ETA: 4:06Loss:  0.266516119\n",
      "14/27 [==============>...............] - ETA: 3:47Loss:  0.238934234\n",
      "15/27 [===============>..............] - ETA: 3:29Loss:  0.217260137\n",
      "16/27 [================>.............] - ETA: 3:11Loss:  0.233952612\n",
      "17/27 [=================>............] - ETA: 2:53Loss:  0.255221725\n",
      "18/27 [===================>..........] - ETA: 2:35Loss:  0.227973849\n",
      "19/27 [====================>.........] - ETA: 2:18Loss:  0.22126551\n",
      "20/27 [=====================>........] - ETA: 2:00Loss:  0.140710846\n",
      "21/27 [======================>.......] - ETA: 1:43Loss:  0.121065401\n",
      "22/27 [=======================>......] - ETA: 1:25Loss:  0.162226915\n",
      "23/27 [========================>.....] - ETA: 1:08Loss:  0.184398666\n",
      "24/27 [=========================>....] - ETA: 51s Loss:  0.104267821\n",
      "25/27 [==========================>...] - ETA: 34sLoss:  0.150917605\n",
      "26/27 [===========================>..] - ETA: 17sLoss:  0.157263383\n",
      "27/27 [==============================] - 1929s 17s/step\n",
      "\n",
      " Epoch 13/50\n",
      "Loss:  0.0481841341\n",
      " 1/27 [>.............................] - ETA: 7:05Loss:  0.0835903436\n",
      " 2/27 [=>............................] - ETA: 6:54Loss:  0.146161437\n",
      " 3/27 [==>...........................] - ETA: 6:35Loss:  0.129690796\n",
      " 4/27 [===>..........................] - ETA: 6:17Loss:  0.0840770826\n",
      " 5/27 [====>.........................] - ETA: 6:01Loss:  0.0781909227\n",
      " 6/27 [=====>........................] - ETA: 5:46Loss:  0.279251158\n",
      " 7/27 [======>.......................] - ETA: 5:29Loss:  0.080113709\n",
      " 8/27 [=======>......................] - ETA: 5:14Loss:  0.180678159\n",
      " 9/27 [=========>....................] - ETA: 4:57Loss:  0.213850752\n",
      "10/27 [==========>...................] - ETA: 4:40Loss:  0.15654847\n",
      "11/27 [===========>..................] - ETA: 4:24Loss:  0.0924053639\n",
      "12/27 [============>.................] - ETA: 4:07Loss:  0.0810743\n",
      "13/27 [=============>................] - ETA: 3:50Loss:  0.0818508342\n",
      "14/27 [==============>...............] - ETA: 3:34Loss:  0.0707397759\n",
      "15/27 [===============>..............] - ETA: 3:17Loss:  0.134919971\n",
      "16/27 [================>.............] - ETA: 3:01Loss:  0.122849479\n",
      "17/27 [=================>............] - ETA: 2:44Loss:  0.0324035436\n",
      "18/27 [===================>..........] - ETA: 2:28Loss:  0.168050349\n",
      "19/27 [====================>.........] - ETA: 2:11Loss:  0.0790385753\n",
      "20/27 [=====================>........] - ETA: 1:55Loss:  0.0386225283\n",
      "21/27 [======================>.......] - ETA: 1:38Loss:  0.120143339\n",
      "22/27 [=======================>......] - ETA: 1:22Loss:  0.045455385\n",
      "23/27 [========================>.....] - ETA: 1:05Loss:  0.0795356855\n",
      "24/27 [=========================>....] - ETA: 49s Loss:  0.111253947\n",
      "25/27 [==========================>...] - ETA: 32sLoss:  0.105019137\n",
      "26/27 [===========================>..] - ETA: 16sLoss:  0.00231897412\n",
      "27/27 [==============================] - 433s 16s/step\n",
      "\n",
      " Epoch 14/50\n",
      "Loss:  0.0546981655\n"
     ]
    },
    {
     "name": "stdout",
     "output_type": "stream",
     "text": [
      " 1/27 [>.............................] - ETA: 7:21Loss:  0.100848898\n",
      " 2/27 [=>............................] - ETA: 6:51Loss:  0.0989951342\n",
      " 3/27 [==>...........................] - ETA: 6:32Loss:  0.0863246322\n",
      " 4/27 [===>..........................] - ETA: 6:14Loss:  0.0442737825\n",
      " 5/27 [====>.........................] - ETA: 5:59Loss:  0.0410594903\n",
      " 6/27 [=====>........................] - ETA: 5:48Loss:  0.081975989\n",
      " 7/27 [======>.......................] - ETA: 5:30Loss:  0.0267833248\n",
      " 8/27 [=======>......................] - ETA: 5:14Loss:  0.0237189084\n",
      " 9/27 [=========>....................] - ETA: 4:57Loss:  0.0910253227\n",
      "10/27 [==========>...................] - ETA: 4:41Loss:  0.0465989374\n",
      "11/27 [===========>..................] - ETA: 4:27Loss:  0.119526222\n",
      "12/27 [============>.................] - ETA: 4:10Loss:  0.0401694961\n",
      "13/27 [=============>................] - ETA: 3:53Loss:  0.0820415914\n",
      "14/27 [==============>...............] - ETA: 3:36Loss:  0.0510261878\n",
      "15/27 [===============>..............] - ETA: 3:20Loss:  0.0439244136\n",
      "16/27 [================>.............] - ETA: 3:04Loss:  0.0911788419\n",
      "17/27 [=================>............] - ETA: 2:47Loss:  0.0338686444\n",
      "18/27 [===================>..........] - ETA: 2:30Loss:  0.0193913281\n",
      "19/27 [====================>.........] - ETA: 2:13Loss:  0.0220173541\n",
      "20/27 [=====================>........] - ETA: 1:57Loss:  0.0145961558\n",
      "21/27 [======================>.......] - ETA: 1:40Loss:  0.0415224582\n",
      "22/27 [=======================>......] - ETA: 1:23Loss:  0.0923670232\n",
      "23/27 [========================>.....] - ETA: 1:06Loss:  0.0280219987\n",
      "24/27 [=========================>....] - ETA: 50s Loss:  0.0343031846\n",
      "25/27 [==========================>...] - ETA: 33sLoss:  0.0446193442\n",
      "26/27 [===========================>..] - ETA: 16sLoss:  0.0866790861\n",
      "27/27 [==============================] - 440s 16s/step\n",
      "\n",
      " Epoch 15/50\n",
      "Loss:  0.00377246412\n",
      " 1/27 [>.............................] - ETA: 7:16Loss:  0.0584384501\n",
      " 2/27 [=>............................] - ETA: 6:58Loss:  0.0295005292\n",
      " 3/27 [==>...........................] - ETA: 6:41Loss:  0.0552515499\n",
      " 4/27 [===>..........................] - ETA: 6:33Loss:  0.0219013412\n",
      " 5/27 [====>.........................] - ETA: 6:07Loss:  0.0173279457\n",
      " 6/27 [=====>........................] - ETA: 5:46Loss:  0.0941778123\n",
      " 7/27 [======>.......................] - ETA: 5:28Loss:  0.0230997466\n",
      " 8/27 [=======>......................] - ETA: 5:11Loss:  0.0933882296\n",
      " 9/27 [=========>....................] - ETA: 4:54Loss:  0.0144261252\n",
      "10/27 [==========>...................] - ETA: 4:37Loss:  0.0398111\n",
      "11/27 [===========>..................] - ETA: 4:19Loss:  0.00590431131\n",
      "12/27 [============>.................] - ETA: 4:03Loss:  0.0841653943\n",
      "13/27 [=============>................] - ETA: 3:47Loss:  0.00213904\n",
      "14/27 [==============>...............] - ETA: 3:30Loss:  0.080220826\n",
      "15/27 [===============>..............] - ETA: 3:14Loss:  0.0185231362\n",
      "16/27 [================>.............] - ETA: 2:57Loss:  0.051491417\n",
      "17/27 [=================>............] - ETA: 2:41Loss:  0.0389424339\n",
      "18/27 [===================>..........] - ETA: 2:25Loss:  0.033852797\n",
      "19/27 [====================>.........] - ETA: 2:09Loss:  0.0302759185\n",
      "20/27 [=====================>........] - ETA: 1:52Loss:  0.0103259878\n",
      "21/27 [======================>.......] - ETA: 1:36Loss:  0.0164354406\n",
      "22/27 [=======================>......] - ETA: 1:20Loss:  0.106726646\n",
      "23/27 [========================>.....] - ETA: 1:04Loss:  0.0197846\n",
      "24/27 [=========================>....] - ETA: 48s Loss:  0.00604288327\n",
      "25/27 [==========================>...] - ETA: 32sLoss:  0.0556110628\n",
      "26/27 [===========================>..] - ETA: 16sLoss:  0.0457467102\n",
      "27/27 [==============================] - 425s 16s/step\n",
      "\n",
      " Epoch 16/50\n",
      "Loss:  0.105161659\n",
      " 1/27 [>.............................] - ETA: 7:06Loss:  0.00712611852\n",
      " 2/27 [=>............................] - ETA: 6:59Loss:  0.036058709\n",
      " 3/27 [==>...........................] - ETA: 6:42Loss:  0.0548099\n",
      " 4/27 [===>..........................] - ETA: 6:32Loss:  0.0748217702\n",
      " 5/27 [====>.........................] - ETA: 6:12Loss:  0.220091283\n",
      " 6/27 [=====>........................] - ETA: 5:53Loss:  0.0481109843\n",
      " 7/27 [======>.......................] - ETA: 5:35Loss:  0.0735332519\n",
      " 8/27 [=======>......................] - ETA: 5:19Loss:  0.0209035128\n",
      " 9/27 [=========>....................] - ETA: 5:04Loss:  0.268994182\n",
      "10/27 [==========>...................] - ETA: 4:46Loss:  0.0509658\n",
      "11/27 [===========>..................] - ETA: 4:29Loss:  0.165491834\n",
      "12/27 [============>.................] - ETA: 4:12Loss:  0.538675904\n",
      "13/27 [=============>................] - ETA: 3:55Loss:  0.117427588\n",
      "14/27 [==============>...............] - ETA: 3:38Loss:  0.139827415\n",
      "15/27 [===============>..............] - ETA: 3:21Loss:  0.0474745184\n",
      "16/27 [================>.............] - ETA: 3:04Loss:  0.0717451498\n",
      "17/27 [=================>............] - ETA: 2:47Loss:  0.197561145\n",
      "18/27 [===================>..........] - ETA: 2:31Loss:  0.0615146\n",
      "19/27 [====================>.........] - ETA: 2:14Loss:  0.0493565761\n",
      "20/27 [=====================>........] - ETA: 1:57Loss:  0.0926384181\n",
      "21/27 [======================>.......] - ETA: 1:40Loss:  0.0966160148\n",
      "22/27 [=======================>......] - ETA: 1:23Loss:  0.112595707\n",
      "23/27 [========================>.....] - ETA: 1:07Loss:  0.0794611722\n",
      "24/27 [=========================>....] - ETA: 50s Loss:  0.0630863681\n",
      "25/27 [==========================>...] - ETA: 33sLoss:  0.0346864127\n",
      "26/27 [===========================>..] - ETA: 16sLoss:  0.015751997\n",
      "27/27 [==============================] - 441s 16s/step\n",
      "\n",
      " Epoch 17/50\n",
      "Loss:  0.0578439683\n",
      " 1/27 [>.............................] - ETA: 7:11Loss:  0.0385227427\n",
      " 2/27 [=>............................] - ETA: 7:25Loss:  0.034670122\n",
      " 3/27 [==>...........................] - ETA: 6:53Loss:  0.0217481628\n",
      " 4/27 [===>..........................] - ETA: 6:32Loss:  0.0718510374\n",
      " 5/27 [====>.........................] - ETA: 6:10Loss:  0.0105234543\n",
      " 6/27 [=====>........................] - ETA: 5:56Loss:  0.0577895604\n",
      " 7/27 [======>.......................] - ETA: 5:39Loss:  0.0332352668\n",
      " 8/27 [=======>......................] - ETA: 5:21Loss:  0.0358863547\n",
      " 9/27 [=========>....................] - ETA: 5:03Loss:  0.0837097093\n",
      "10/27 [==========>...................] - ETA: 4:46Loss:  0.0547556281\n",
      "11/27 [===========>..................] - ETA: 4:30Loss:  0.0592536181\n",
      "12/27 [============>.................] - ETA: 4:12Loss:  0.0896229893\n",
      "13/27 [=============>................] - ETA: 3:55Loss:  0.00963383075\n",
      "14/27 [==============>...............] - ETA: 3:38Loss:  0.0270805955\n",
      "15/27 [===============>..............] - ETA: 3:21Loss:  0.0407371\n",
      "16/27 [================>.............] - ETA: 3:05Loss:  0.22311908\n",
      "17/27 [=================>............] - ETA: 2:48Loss:  0.53213954\n",
      "18/27 [===================>..........] - ETA: 2:31Loss:  0.0977922082\n",
      "19/27 [====================>.........] - ETA: 2:14Loss:  0.0552423447\n",
      "20/27 [=====================>........] - ETA: 1:57Loss:  2.05265133e-06\n",
      "21/27 [======================>.......] - ETA: 1:40Loss:  0.105831601\n",
      "22/27 [=======================>......] - ETA: 1:24Loss:  0.0624608286\n",
      "23/27 [========================>.....] - ETA: 1:07Loss:  0.0504862815\n",
      "24/27 [=========================>....] - ETA: 50s Loss:  0.00102979084\n",
      "25/27 [==========================>...] - ETA: 33sLoss:  0.320403397\n",
      "26/27 [===========================>..] - ETA: 16sLoss:  0.00782182626\n",
      "27/27 [==============================] - 441s 16s/step\n",
      "\n",
      " Epoch 18/50\n",
      "Loss:  2.20258662e-05\n",
      " 1/27 [>.............................] - ETA: 7:22Loss:  0.00139347871\n",
      " 2/27 [=>............................] - ETA: 7:08Loss:  0.0461562462\n",
      " 3/27 [==>...........................] - ETA: 6:53Loss:  0.0102925925\n",
      " 4/27 [===>..........................] - ETA: 6:29Loss:  0.00496701\n",
      " 5/27 [====>.........................] - ETA: 6:08Loss:  0.192338049\n",
      " 6/27 [=====>........................] - ETA: 5:55Loss:  0.098445639\n",
      " 7/27 [======>.......................] - ETA: 5:38Loss:  0.0688121915\n",
      " 8/27 [=======>......................] - ETA: 5:20Loss:  0.141555652\n"
     ]
    },
    {
     "name": "stdout",
     "output_type": "stream",
     "text": [
      " 9/27 [=========>....................] - ETA: 5:02Loss:  0.0543142632\n",
      "10/27 [==========>...................] - ETA: 4:46Loss:  0.0536333248\n",
      "11/27 [===========>..................] - ETA: 4:29Loss:  0.142497346\n",
      "12/27 [============>.................] - ETA: 4:12Loss:  0.108359307\n",
      "13/27 [=============>................] - ETA: 3:55Loss:  0.0923766\n",
      "14/27 [==============>...............] - ETA: 3:38Loss:  0.123207971\n",
      "15/27 [===============>..............] - ETA: 3:22Loss:  0.158216119\n",
      "16/27 [================>.............] - ETA: 3:05Loss:  0.107417852\n",
      "17/27 [=================>............] - ETA: 2:48Loss:  0.0669211224\n",
      "18/27 [===================>..........] - ETA: 2:31Loss:  0.0436990224\n",
      "19/27 [====================>.........] - ETA: 2:14Loss:  0.0588074215\n",
      "20/27 [=====================>........] - ETA: 1:57Loss:  0.0426236689\n",
      "21/27 [======================>.......] - ETA: 1:40Loss:  0.154112831\n",
      "22/27 [=======================>......] - ETA: 1:23Loss:  0.0979922488\n",
      "23/27 [========================>.....] - ETA: 1:07Loss:  0.0465395302\n",
      "24/27 [=========================>....] - ETA: 50s Loss:  0.00644905632\n",
      "25/27 [==========================>...] - ETA: 33sLoss:  0.181936562\n",
      "26/27 [===========================>..] - ETA: 16sLoss:  0.0292681307\n",
      "27/27 [==============================] - 441s 16s/step\n",
      "\n",
      " Epoch 19/50\n",
      "Loss:  0.0686458722\n",
      " 1/27 [>.............................] - ETA: 7:17Loss:  0.0186066628\n",
      " 2/27 [=>............................] - ETA: 7:14Loss:  0.0532828271\n",
      " 3/27 [==>...........................] - ETA: 6:44Loss:  0.00789182261\n",
      " 4/27 [===>..........................] - ETA: 6:26Loss:  0.00618136674\n",
      " 5/27 [====>.........................] - ETA: 6:09Loss:  0.0827762336\n",
      " 6/27 [=====>........................] - ETA: 5:55Loss:  0.0403397083\n",
      " 7/27 [======>.......................] - ETA: 5:36Loss:  0.0843252763\n",
      " 8/27 [=======>......................] - ETA: 5:18Loss:  0.0857623145\n",
      " 9/27 [=========>....................] - ETA: 5:01Loss:  0.0446135104\n",
      "10/27 [==========>...................] - ETA: 4:45Loss:  0.0367899723\n",
      "11/27 [===========>..................] - ETA: 4:29Loss:  0.00165477907\n",
      "12/27 [============>.................] - ETA: 4:11Loss:  0.0248731785\n",
      "13/27 [=============>................] - ETA: 3:54Loss:  0.04301266\n",
      "14/27 [==============>...............] - ETA: 3:38Loss:  0.029244516\n",
      "15/27 [===============>..............] - ETA: 3:21Loss:  0.0874438733\n",
      "16/27 [================>.............] - ETA: 3:04Loss:  0.02532834\n",
      "17/27 [=================>............] - ETA: 2:47Loss:  0.0084780287\n",
      "18/27 [===================>..........] - ETA: 2:31Loss:  0.00801180396\n",
      "19/27 [====================>.........] - ETA: 2:14Loss:  0.00132713176\n",
      "20/27 [=====================>........] - ETA: 1:57Loss:  0.0230383333\n",
      "21/27 [======================>.......] - ETA: 1:40Loss:  0.0483928472\n",
      "22/27 [=======================>......] - ETA: 1:23Loss:  0.0212374814\n",
      "23/27 [========================>.....] - ETA: 1:07Loss:  0.00307672494\n",
      "24/27 [=========================>....] - ETA: 50s Loss:  0.0607494228\n",
      "25/27 [==========================>...] - ETA: 33sLoss:  0.018674992\n",
      "26/27 [===========================>..] - ETA: 16sLoss:  0.120857984\n",
      "27/27 [==============================] - 440s 16s/step\n",
      "\n",
      " Epoch 20/50\n",
      "Loss:  0.0435513072\n",
      " 1/27 [>.............................] - ETA: 7:49Loss:  0.00229443\n",
      " 2/27 [=>............................] - ETA: 6:48Loss:  0.00708326139\n",
      " 3/27 [==>...........................] - ETA: 6:30Loss:  0.000878136954\n",
      " 4/27 [===>..........................] - ETA: 6:13Loss:  0.0860226601\n",
      " 5/27 [====>.........................] - ETA: 6:03Loss:  0.00414607162\n",
      " 6/27 [=====>........................] - ETA: 5:52Loss:  0.00116655533\n",
      " 7/27 [======>.......................] - ETA: 5:33Loss:  0.0810328424\n",
      " 8/27 [=======>......................] - ETA: 5:18Loss:  0.0100801205\n",
      " 9/27 [=========>....................] - ETA: 5:10Loss:  0.0101371342\n",
      "10/27 [==========>...................] - ETA: 4:53Loss:  0.0141117778\n",
      "11/27 [===========>..................] - ETA: 4:42Loss:  0.0136679048\n",
      "12/27 [============>.................] - ETA: 4:32Loss:  0.0445390455\n",
      "13/27 [=============>................] - ETA: 4:15Loss:  0.0805230811\n",
      "14/27 [==============>...............] - ETA: 3:57Loss:  0.0276391022\n",
      "15/27 [===============>..............] - ETA: 3:38Loss:  0.00294328155\n",
      "16/27 [================>.............] - ETA: 3:20Loss:  0.00823771488\n",
      "17/27 [=================>............] - ETA: 3:01Loss:  1.67575581e-05\n",
      "18/27 [===================>..........] - ETA: 2:43Loss:  0.0012277253\n",
      "19/27 [====================>.........] - ETA: 2:25Loss:  0.0251309685\n",
      "20/27 [=====================>........] - ETA: 2:07Loss:  0.00014214548\n",
      "21/27 [======================>.......] - ETA: 1:48Loss:  0.0266628694\n",
      "22/27 [=======================>......] - ETA: 1:30Loss:  0.0437828116\n",
      "23/27 [========================>.....] - ETA: 1:12Loss:  0.0138644427\n",
      "24/27 [=========================>....] - ETA: 54s Loss:  0.0081537338\n",
      "25/27 [==========================>...] - ETA: 36sLoss:  0.0239705276\n",
      "26/27 [===========================>..] - ETA: 18sLoss:  0.00109665736\n",
      "27/27 [==============================] - 481s 18s/step\n",
      "\n",
      " Epoch 21/50\n",
      "Loss:  0.00879133\n",
      " 1/27 [>.............................] - ETA: 10:08Loss:  0.0432467684\n",
      " 2/27 [=>............................] - ETA: 8:53 Loss:  4.95459281e-05\n",
      " 3/27 [==>...........................] - ETA: 7:49Loss:  0.00114218949\n",
      " 4/27 [===>..........................] - ETA: 7:08Loss:  0.0606178418\n",
      " 5/27 [====>.........................] - ETA: 6:51Loss:  0.00367951207\n",
      " 6/27 [=====>........................] - ETA: 6:29Loss:  0.00899448805\n",
      " 7/27 [======>.......................] - ETA: 6:08Loss:  0.0251729116\n",
      " 8/27 [=======>......................] - ETA: 5:49Loss:  0.0107336892\n",
      " 9/27 [=========>....................] - ETA: 5:30Loss:  0.0339993164\n",
      "10/27 [==========>...................] - ETA: 5:11Loss:  0.000135983049\n",
      "11/27 [===========>..................] - ETA: 4:53Loss:  0.0011410669\n",
      "12/27 [============>.................] - ETA: 4:35Loss:  0.00479408866\n",
      "13/27 [=============>................] - ETA: 4:16Loss:  0.0127174491\n",
      "14/27 [==============>...............] - ETA: 3:57Loss:  0.0416564494\n",
      "15/27 [===============>..............] - ETA: 3:39Loss:  0.0228104256\n",
      "16/27 [================>.............] - ETA: 3:21Loss:  0.00432949048\n",
      "17/27 [=================>............] - ETA: 3:03Loss:  0.00121879915\n",
      "18/27 [===================>..........] - ETA: 2:45Loss:  0.0288324635\n",
      "19/27 [====================>.........] - ETA: 2:26Loss:  0.0189810302\n",
      "20/27 [=====================>........] - ETA: 2:08Loss:  0.0458003357\n",
      "21/27 [======================>.......] - ETA: 1:49Loss:  0.048890695\n",
      "22/27 [=======================>......] - ETA: 1:32Loss:  0.00520299887\n",
      "23/27 [========================>.....] - ETA: 1:14Loss:  0.00122921553\n",
      "24/27 [=========================>....] - ETA: 55s Loss:  0.00578228757\n",
      "25/27 [==========================>...] - ETA: 37sLoss:  0.023848027\n",
      "26/27 [===========================>..] - ETA: 18sLoss:  0.019506162\n",
      "27/27 [==============================] - 491s 18s/step\n",
      "\n",
      " Epoch 22/50\n",
      "Loss:  0.00374975638\n",
      " 1/27 [>.............................] - ETA: 8:04Loss:  0.000237794913\n",
      " 2/27 [=>............................] - ETA: 7:28Loss:  0.00768227363\n",
      " 3/27 [==>...........................] - ETA: 7:07Loss:  0.00337548833\n",
      " 4/27 [===>..........................] - ETA: 6:50Loss:  0.0216995161\n",
      " 5/27 [====>.........................] - ETA: 6:32Loss:  0.000198276961\n",
      " 6/27 [=====>........................] - ETA: 6:14Loss:  0.00428975793\n",
      " 7/27 [======>.......................] - ETA: 5:58Loss:  0.000319383456\n",
      " 8/27 [=======>......................] - ETA: 5:43Loss:  0.000452105771\n",
      " 9/27 [=========>....................] - ETA: 5:26Loss:  0.0122625064\n",
      "10/27 [==========>...................] - ETA: 5:06Loss:  0.00119181222\n",
      "11/27 [===========>..................] - ETA: 4:48Loss:  0.000460318843\n",
      "12/27 [============>.................] - ETA: 4:29Loss:  0.00312130549\n",
      "13/27 [=============>................] - ETA: 4:11Loss:  1.12131715e-06\n",
      "14/27 [==============>...............] - ETA: 3:53Loss:  0.000109616609\n",
      "15/27 [===============>..............] - ETA: 3:36Loss:  0.0212189127\n"
     ]
    },
    {
     "name": "stdout",
     "output_type": "stream",
     "text": [
      "16/27 [================>.............] - ETA: 3:18Loss:  0.00287962588\n",
      "17/27 [=================>............] - ETA: 3:00Loss:  0.0227556247\n",
      "18/27 [===================>..........] - ETA: 2:41Loss:  0.0373957641\n",
      "19/27 [====================>.........] - ETA: 2:23Loss:  0.00241057784\n",
      "20/27 [=====================>........] - ETA: 2:05Loss:  0.0163515173\n",
      "21/27 [======================>.......] - ETA: 1:47Loss:  0.0349212252\n",
      "22/27 [=======================>......] - ETA: 1:29Loss:  0.0144552095\n",
      "23/27 [========================>.....] - ETA: 1:11Loss:  0.00478495238\n",
      "24/27 [=========================>....] - ETA: 53s Loss:  0.020542156\n",
      "25/27 [==========================>...] - ETA: 35sLoss:  0.00436633732\n",
      "26/27 [===========================>..] - ETA: 17sLoss:  4.46315862e-05\n",
      "27/27 [==============================] - 468s 17s/step\n",
      "\n",
      " Epoch 23/50\n",
      "Loss:  0.0137936668\n",
      " 1/27 [>.............................] - ETA: 7:15Loss:  0.000776338624\n",
      " 2/27 [=>............................] - ETA: 7:22Loss:  0.014373241\n",
      " 3/27 [==>...........................] - ETA: 6:55Loss:  0.00247396668\n",
      " 4/27 [===>..........................] - ETA: 6:34Loss:  0.00118797191\n",
      " 5/27 [====>.........................] - ETA: 6:21Loss:  0.0542605\n",
      " 6/27 [=====>........................] - ETA: 6:03Loss:  0.000846767216\n",
      " 7/27 [======>.......................] - ETA: 5:46Loss:  0.02569451\n",
      " 8/27 [=======>......................] - ETA: 5:27Loss:  4.41784614e-05\n",
      " 9/27 [=========>....................] - ETA: 5:12Loss:  6.00077583e-05\n",
      "10/27 [==========>...................] - ETA: 4:55Loss:  0.0663171783\n",
      "11/27 [===========>..................] - ETA: 4:36Loss:  0.0011121342\n",
      "12/27 [============>.................] - ETA: 4:19Loss:  0.00900968537\n",
      "13/27 [=============>................] - ETA: 4:02Loss:  0.00777238049\n",
      "14/27 [==============>...............] - ETA: 3:45Loss:  0.0475854427\n",
      "15/27 [===============>..............] - ETA: 3:27Loss:  0.00194942672\n",
      "16/27 [================>.............] - ETA: 3:09Loss:  0.00087032991\n",
      "17/27 [=================>............] - ETA: 2:52Loss:  0.0315170251\n",
      "18/27 [===================>..........] - ETA: 2:35Loss:  0.000941430277\n",
      "19/27 [====================>.........] - ETA: 2:18Loss:  0.0159445\n",
      "20/27 [=====================>........] - ETA: 2:01Loss:  0.00127234822\n",
      "21/27 [======================>.......] - ETA: 1:43Loss:  0.000216016182\n",
      "22/27 [=======================>......] - ETA: 1:26Loss:  0.00426329067\n",
      "23/27 [========================>.....] - ETA: 1:09Loss:  0.0024929652\n",
      "24/27 [=========================>....] - ETA: 51s Loss:  0.00410232134\n",
      "25/27 [==========================>...] - ETA: 34sLoss:  0.00111883529\n",
      "26/27 [===========================>..] - ETA: 17sLoss:  1.37091013e-06\n",
      "27/27 [==============================] - 451s 17s/step\n",
      "\n",
      " Epoch 24/50\n",
      "Loss:  0.00281127938\n",
      " 1/27 [>.............................] - ETA: 6:59Loss:  0.0170627628\n",
      " 2/27 [=>............................] - ETA: 6:28Loss:  0.211437225\n",
      " 3/27 [==>...........................] - ETA: 6:19Loss:  0.00267189112\n",
      " 4/27 [===>..........................] - ETA: 6:05Loss:  0.011722045\n",
      " 5/27 [====>.........................] - ETA: 5:50Loss:  0.0472942367\n",
      " 6/27 [=====>........................] - ETA: 5:34Loss:  0.100051016\n",
      " 7/27 [======>.......................] - ETA: 5:18Loss:  0.00256367819\n",
      " 8/27 [=======>......................] - ETA: 5:04Loss:  0.0335676149\n",
      " 9/27 [=========>....................] - ETA: 4:49Loss:  0.010379713\n",
      "10/27 [==========>...................] - ETA: 4:38Loss:  0.0127643952\n",
      "11/27 [===========>..................] - ETA: 4:29Loss:  0.044582\n",
      "12/27 [============>.................] - ETA: 4:14Loss:  9.4588846e-05\n",
      "13/27 [=============>................] - ETA: 3:56Loss:  0.0616032034\n",
      "14/27 [==============>...............] - ETA: 3:40Loss:  0.0178814679\n",
      "15/27 [===============>..............] - ETA: 3:24Loss:  0.0437543429\n",
      "16/27 [================>.............] - ETA: 3:07Loss:  0.046515286\n",
      "17/27 [=================>............] - ETA: 2:50Loss:  0.0405761302\n",
      "18/27 [===================>..........] - ETA: 2:33Loss:  0.027781399\n",
      "19/27 [====================>.........] - ETA: 2:16Loss:  0.0177746415\n",
      "20/27 [=====================>........] - ETA: 1:59Loss:  0.0161881186\n",
      "21/27 [======================>.......] - ETA: 1:42Loss:  0.0127015878\n",
      "22/27 [=======================>......] - ETA: 1:25Loss:  0.0273574721\n",
      "23/27 [========================>.....] - ETA: 1:08Loss:  0.0468357094\n",
      "24/27 [=========================>....] - ETA: 51s Loss:  0.0115205022\n",
      "25/27 [==========================>...] - ETA: 34sLoss:  0.0440041795\n",
      "26/27 [===========================>..] - ETA: 17sLoss:  0.0278170221\n",
      "27/27 [==============================] - 447s 17s/step\n",
      "\n",
      " Epoch 25/50\n",
      "Loss:  0.026204396\n",
      " 1/27 [>.............................] - ETA: 7:47Loss:  0.0998153836\n",
      " 2/27 [=>............................] - ETA: 7:18Loss:  0.0404911563\n",
      " 3/27 [==>...........................] - ETA: 6:51Loss:  0.154954597\n",
      " 4/27 [===>..........................] - ETA: 6:31Loss:  0.375720024\n",
      " 5/27 [====>.........................] - ETA: 6:20Loss:  0.483035177\n",
      " 6/27 [=====>........................] - ETA: 6:03Loss:  0.105105437\n",
      " 7/27 [======>.......................] - ETA: 5:44Loss:  0.00386734586\n",
      " 8/27 [=======>......................] - ETA: 5:26Loss:  0.0397847891\n",
      " 9/27 [=========>....................] - ETA: 5:09Loss:  0.0354582481\n",
      "10/27 [==========>...................] - ETA: 4:52Loss:  0.163017929\n",
      "11/27 [===========>..................] - ETA: 4:34Loss:  0.088443771\n",
      "12/27 [============>.................] - ETA: 4:16Loss:  0.260827869\n",
      "13/27 [=============>................] - ETA: 4:01Loss:  0.0453493036\n",
      "14/27 [==============>...............] - ETA: 3:44Loss:  0.0456828848\n",
      "15/27 [===============>..............] - ETA: 3:26Loss:  0.123266235\n",
      "16/27 [================>.............] - ETA: 3:09Loss:  0.0536984466\n",
      "17/27 [=================>............] - ETA: 2:52Loss:  0.077023536\n",
      "18/27 [===================>..........] - ETA: 2:35Loss:  0.0996383578\n",
      "19/27 [====================>.........] - ETA: 2:17Loss:  0.0512076542\n",
      "20/27 [=====================>........] - ETA: 2:00Loss:  0.0408502072\n",
      "21/27 [======================>.......] - ETA: 1:43Loss:  0.0396880433\n",
      "22/27 [=======================>......] - ETA: 1:26Loss:  0.051859647\n",
      "23/27 [========================>.....] - ETA: 1:08Loss:  0.0912412778\n",
      "24/27 [=========================>....] - ETA: 51s Loss:  0.0151971178\n",
      "25/27 [==========================>...] - ETA: 34sLoss:  0.0510488898\n",
      "26/27 [===========================>..] - ETA: 17sLoss:  0.000121035519\n",
      "27/27 [==============================] - 453s 17s/step\n",
      "\n",
      " Epoch 26/50\n",
      "Loss:  0.033656396\n",
      " 1/27 [>.............................] - ETA: 7:11Loss:  0.0318737179\n",
      " 2/27 [=>............................] - ETA: 7:02Loss:  0.013532998\n",
      " 3/27 [==>...........................] - ETA: 6:55Loss:  0.0694897249\n",
      " 4/27 [===>..........................] - ETA: 6:45Loss:  0.0916841477\n",
      " 5/27 [====>.........................] - ETA: 6:26Loss:  0.0852936506\n",
      " 6/27 [=====>........................] - ETA: 6:09Loss:  0.0956694558\n",
      " 7/27 [======>.......................] - ETA: 5:54Loss:  0.124379337\n",
      " 8/27 [=======>......................] - ETA: 5:38Loss:  0.0110618193\n",
      " 9/27 [=========>....................] - ETA: 5:20Loss:  0.0155243492\n",
      "10/27 [==========>...................] - ETA: 5:01Loss:  0.0487699956\n",
      "11/27 [===========>..................] - ETA: 4:45Loss:  0.0207832288\n",
      "12/27 [============>.................] - ETA: 4:28Loss:  0.156353578\n",
      "13/27 [=============>................] - ETA: 4:09Loss:  0.00455948059\n",
      "14/27 [==============>...............] - ETA: 3:52Loss:  0.0709386766\n",
      "15/27 [===============>..............] - ETA: 3:34Loss:  0.290163755\n",
      "16/27 [================>.............] - ETA: 3:15Loss:  0.404073328\n",
      "17/27 [=================>............] - ETA: 2:57Loss:  0.0409328118\n",
      "18/27 [===================>..........] - ETA: 2:39Loss:  0.0562312678\n",
      "19/27 [====================>.........] - ETA: 2:22Loss:  0.00701128133\n",
      "20/27 [=====================>........] - ETA: 2:03Loss:  0.357325941\n",
      "21/27 [======================>.......] - ETA: 1:45Loss:  0.221145645\n",
      "22/27 [=======================>......] - ETA: 1:28Loss:  0.291493952\n",
      "23/27 [========================>.....] - ETA: 1:10Loss:  0.389769018\n"
     ]
    },
    {
     "name": "stdout",
     "output_type": "stream",
     "text": [
      "24/27 [=========================>....] - ETA: 52s Loss:  0.194529235\n",
      "25/27 [==========================>...] - ETA: 35sLoss:  0.0432415828\n",
      "26/27 [===========================>..] - ETA: 17sLoss:  0.00672682282\n",
      "27/27 [==============================] - 461s 17s/step\n",
      "\n",
      " Epoch 27/50\n",
      "Loss:  0.0196106527\n",
      " 1/27 [>.............................] - ETA: 7:27Loss:  0.0540562905\n",
      " 2/27 [=>............................] - ETA: 7:03Loss:  0.115696587\n",
      " 3/27 [==>...........................] - ETA: 6:45Loss:  0.126514554\n",
      " 4/27 [===>..........................] - ETA: 6:37Loss:  0.0947706848\n",
      " 5/27 [====>.........................] - ETA: 6:20Loss:  0.065088436\n",
      " 6/27 [=====>........................] - ETA: 6:01Loss:  0.0601052418\n",
      " 7/27 [======>.......................] - ETA: 5:42Loss:  0.0998978466\n",
      " 8/27 [=======>......................] - ETA: 5:26Loss:  0.149823338\n",
      " 9/27 [=========>....................] - ETA: 5:10Loss:  0.00229397509\n",
      "10/27 [==========>...................] - ETA: 4:51Loss:  0.0699161589\n",
      "11/27 [===========>..................] - ETA: 4:34Loss:  0.046668537\n",
      "12/27 [============>.................] - ETA: 4:18Loss:  0.0361227132\n",
      "13/27 [=============>................] - ETA: 4:00Loss:  0.0160115846\n",
      "14/27 [==============>...............] - ETA: 3:42Loss:  0.215992168\n",
      "15/27 [===============>..............] - ETA: 3:26Loss:  0.00353275798\n",
      "16/27 [================>.............] - ETA: 3:09Loss:  0.00286010234\n",
      "17/27 [=================>............] - ETA: 2:51Loss:  0.0149476528\n",
      "18/27 [===================>..........] - ETA: 2:34Loss:  0.00263094017\n",
      "19/27 [====================>.........] - ETA: 2:17Loss:  0.0203559287\n",
      "20/27 [=====================>........] - ETA: 2:00Loss:  0.0596656576\n",
      "21/27 [======================>.......] - ETA: 1:42Loss:  0.612272739\n",
      "22/27 [=======================>......] - ETA: 1:25Loss:  0.00534456223\n",
      "23/27 [========================>.....] - ETA: 1:08Loss:  0.0953530446\n",
      "24/27 [=========================>....] - ETA: 51s Loss:  0.346173763\n",
      "25/27 [==========================>...] - ETA: 34sLoss:  0.364237249\n",
      "26/27 [===========================>..] - ETA: 17sLoss:  0.0352224261\n",
      "27/27 [==============================] - 452s 17s/step\n",
      "\n",
      " Epoch 28/50\n",
      "Loss:  0.688614964\n",
      " 1/27 [>.............................] - ETA: 7:20Loss:  0.750676632\n",
      " 2/27 [=>............................] - ETA: 7:18Loss:  0.353315115\n",
      " 3/27 [==>...........................] - ETA: 6:58Loss:  0.219712406\n",
      " 4/27 [===>..........................] - ETA: 6:34Loss:  0.0751438\n",
      " 5/27 [====>.........................] - ETA: 6:17Loss:  0.0351814516\n",
      " 6/27 [=====>........................] - ETA: 6:05Loss:  0.0146024\n",
      " 7/27 [======>.......................] - ETA: 5:45Loss:  0.0335217342\n",
      " 8/27 [=======>......................] - ETA: 5:27Loss:  0.0455945283\n",
      " 9/27 [=========>....................] - ETA: 5:11Loss:  0.11608775\n",
      "10/27 [==========>...................] - ETA: 4:54Loss:  0.075100854\n",
      "11/27 [===========>..................] - ETA: 4:35Loss:  0.113803975\n",
      "12/27 [============>.................] - ETA: 4:17Loss:  0.116683103\n",
      "13/27 [=============>................] - ETA: 4:01Loss:  0.0250720531\n",
      "14/27 [==============>...............] - ETA: 3:44Loss:  0.0252770763\n",
      "15/27 [===============>..............] - ETA: 3:27Loss:  0.0206592269\n",
      "16/27 [================>.............] - ETA: 3:09Loss:  0.127303243\n",
      "17/27 [=================>............] - ETA: 2:52Loss:  0.0480703115\n",
      "18/27 [===================>..........] - ETA: 2:35Loss:  0.035771206\n",
      "19/27 [====================>.........] - ETA: 2:17Loss:  0.081257306\n",
      "20/27 [=====================>........] - ETA: 2:00Loss:  0.0068418528\n",
      "21/27 [======================>.......] - ETA: 1:43Loss:  0.0695149228\n",
      "22/27 [=======================>......] - ETA: 1:26Loss:  0.0406431556\n",
      "23/27 [========================>.....] - ETA: 1:08Loss:  0.480983227\n",
      "24/27 [=========================>....] - ETA: 51s Loss:  0.0629294217\n",
      "25/27 [==========================>...] - ETA: 34sLoss:  0.0439732447\n",
      "26/27 [===========================>..] - ETA: 17sLoss:  0.174510449\n",
      "27/27 [==============================] - 452s 17s/step\n",
      "\n",
      " Epoch 29/50\n",
      "Loss:  0.339624107\n",
      " 1/27 [>.............................] - ETA: 7:14Loss:  0.141469\n",
      " 2/27 [=>............................] - ETA: 7:04Loss:  0.132376909\n",
      " 3/27 [==>...........................] - ETA: 7:02Loss:  0.0685008168\n",
      " 4/27 [===>..........................] - ETA: 6:42Loss:  0.0152976234\n",
      " 5/27 [====>.........................] - ETA: 6:21Loss:  0.0850687623\n",
      " 6/27 [=====>........................] - ETA: 6:00Loss:  0.0636417046\n",
      " 7/27 [======>.......................] - ETA: 5:46Loss:  0.0777490661\n",
      " 8/27 [=======>......................] - ETA: 5:29Loss:  0.0341251269\n",
      " 9/27 [=========>....................] - ETA: 5:10Loss:  0.054688748\n",
      "10/27 [==========>...................] - ETA: 4:52Loss:  0.00821896456\n",
      "11/27 [===========>..................] - ETA: 4:36Loss:  0.0284640621\n",
      "12/27 [============>.................] - ETA: 4:19Loss:  0.0156238703\n",
      "13/27 [=============>................] - ETA: 4:01Loss:  0.0398949794\n",
      "14/27 [==============>...............] - ETA: 3:43Loss:  0.087454021\n",
      "15/27 [===============>..............] - ETA: 3:26Loss:  0.175715208\n",
      "16/27 [================>.............] - ETA: 3:09Loss:  0.00786309503\n",
      "17/27 [=================>............] - ETA: 2:52Loss:  0.0142458556\n",
      "18/27 [===================>..........] - ETA: 2:34Loss:  0.0306836274\n",
      "19/27 [====================>.........] - ETA: 2:17Loss:  0.00800114498\n",
      "20/27 [=====================>........] - ETA: 2:00Loss:  0.0167929\n",
      "21/27 [======================>.......] - ETA: 1:43Loss:  0.0338394865\n",
      "22/27 [=======================>......] - ETA: 1:25Loss:  0.0174626224\n",
      "23/27 [========================>.....] - ETA: 1:08Loss:  0.0906888247\n",
      "24/27 [=========================>....] - ETA: 51s Loss:  0.0742326826\n",
      "25/27 [==========================>...] - ETA: 34sLoss:  0.0592875704\n",
      "26/27 [===========================>..] - ETA: 17sLoss:  0.099939\n",
      "27/27 [==============================] - 452s 17s/step\n",
      "\n",
      " Epoch 30/50\n",
      "Loss:  0.0387600511\n",
      " 1/27 [>.............................] - ETA: 7:49Loss:  0.00333162118\n",
      " 2/27 [=>............................] - ETA: 7:14Loss:  0.0528714545\n",
      " 3/27 [==>...........................] - ETA: 6:47Loss:  0.0339802951\n",
      " 4/27 [===>..........................] - ETA: 6:28Loss:  0.0706564635\n",
      " 5/27 [====>.........................] - ETA: 6:16Loss:  0.0304642\n",
      " 6/27 [=====>........................] - ETA: 6:02Loss:  0.0100987293\n",
      " 7/27 [======>.......................] - ETA: 5:43Loss:  0.0143781481\n",
      " 8/27 [=======>......................] - ETA: 5:26Loss:  0.0686611682\n",
      " 9/27 [=========>....................] - ETA: 5:09Loss:  0.00250050123\n",
      "10/27 [==========>...................] - ETA: 4:53Loss:  0.0323767215\n",
      "11/27 [===========>..................] - ETA: 4:35Loss:  0.0784093514\n",
      "12/27 [============>.................] - ETA: 4:17Loss:  0.0626325533\n",
      "13/27 [=============>................] - ETA: 4:00Loss:  0.050973732\n",
      "14/27 [==============>...............] - ETA: 3:43Loss:  0.000645656139\n",
      "15/27 [===============>..............] - ETA: 3:26Loss:  0.00646020053\n",
      "16/27 [================>.............] - ETA: 3:09Loss:  0.00625894545\n",
      "17/27 [=================>............] - ETA: 2:51Loss:  0.00319964322\n",
      "18/27 [===================>..........] - ETA: 2:35Loss:  0.0029618924\n",
      "19/27 [====================>.........] - ETA: 2:18Loss:  0.00457441621\n",
      "20/27 [=====================>........] - ETA: 2:00Loss:  0.0018730486\n",
      "21/27 [======================>.......] - ETA: 1:43Loss:  0.0846478939\n",
      "22/27 [=======================>......] - ETA: 1:26Loss:  0.0078875646\n",
      "23/27 [========================>.....] - ETA: 1:08Loss:  0.0184146985\n",
      "24/27 [=========================>....] - ETA: 51s Loss:  0.0089730965\n",
      "25/27 [==========================>...] - ETA: 34sLoss:  0.0443533435\n",
      "26/27 [===========================>..] - ETA: 17sLoss:  0.000181694661\n",
      "27/27 [==============================] - 454s 17s/step\n",
      "\n",
      " Epoch 31/50\n",
      "Loss:  0.0517741255\n",
      " 1/27 [>.............................] - ETA: 7:28Loss:  0.000229163532\n",
      " 2/27 [=>............................] - ETA: 7:05Loss:  0.0616068952\n",
      " 3/27 [==>...........................] - ETA: 6:51Loss:  0.00330460025\n",
      " 4/27 [===>..........................] - ETA: 6:46Loss:  0.0331815\n"
     ]
    },
    {
     "name": "stdout",
     "output_type": "stream",
     "text": [
      " 5/27 [====>.........................] - ETA: 6:27Loss:  3.40012339e-05\n",
      " 6/27 [=====>........................] - ETA: 6:07Loss:  0.000822095084\n",
      " 7/27 [======>.......................] - ETA: 5:48Loss:  0.039037209\n",
      " 8/27 [=======>......................] - ETA: 5:32Loss:  0.018893797\n",
      " 9/27 [=========>....................] - ETA: 5:15Loss:  0.00202282402\n",
      "10/27 [==========>...................] - ETA: 4:56Loss:  0.00077595358\n",
      "11/27 [===========>..................] - ETA: 4:38Loss:  0.0403419659\n",
      "12/27 [============>.................] - ETA: 4:22Loss:  0.00307280966\n",
      "13/27 [=============>................] - ETA: 4:04Loss:  0.0436339937\n",
      "14/27 [==============>...............] - ETA: 3:46Loss:  0.0070745782\n",
      "15/27 [===============>..............] - ETA: 3:28Loss:  2.09911559e-05\n",
      "16/27 [================>.............] - ETA: 3:12Loss:  0.0216905884\n",
      "17/27 [=================>............] - ETA: 2:54Loss:  0.00958968885\n",
      "18/27 [===================>..........] - ETA: 2:37Loss:  0.0182790756\n",
      "19/27 [====================>.........] - ETA: 2:19Loss:  0.0240540206\n",
      "20/27 [=====================>........] - ETA: 2:02Loss:  0.00258496497\n",
      "21/27 [======================>.......] - ETA: 1:44Loss:  0.0012711595\n",
      "22/27 [=======================>......] - ETA: 1:27Loss:  3.65953711e-05\n",
      "23/27 [========================>.....] - ETA: 1:09Loss:  0.000581688364\n",
      "24/27 [=========================>....] - ETA: 52s Loss:  0.00123938371\n",
      "25/27 [==========================>...] - ETA: 34sLoss:  0.0263255276\n",
      "26/27 [===========================>..] - ETA: 17sLoss:  0\n",
      "27/27 [==============================] - 459s 17s/step\n",
      "\n",
      " Epoch 32/50\n",
      "Loss:  0.00494453497\n",
      " 1/27 [>.............................] - ETA: 7:13Loss:  0.00100381917\n",
      " 2/27 [=>............................] - ETA: 7:19Loss:  0.0130389538\n",
      " 3/27 [==>...........................] - ETA: 7:03Loss:  0.00615176372\n",
      " 4/27 [===>..........................] - ETA: 6:39Loss:  0.0353079401\n",
      " 5/27 [====>.........................] - ETA: 6:24Loss:  0.00142818817\n",
      " 6/27 [=====>........................] - ETA: 6:08Loss:  0.0242251046\n",
      " 7/27 [======>.......................] - ETA: 5:49Loss:  0.0422166884\n",
      " 8/27 [=======>......................] - ETA: 5:30Loss:  0.00258877315\n",
      " 9/27 [=========>....................] - ETA: 5:13Loss:  0.00799103081\n",
      "10/27 [==========>...................] - ETA: 4:57Loss:  0.00231714733\n",
      "11/27 [===========>..................] - ETA: 4:38Loss:  0.0331134759\n",
      "12/27 [============>.................] - ETA: 4:20Loss:  0.000705358631\n",
      "13/27 [=============>................] - ETA: 4:04Loss:  0.0346587487\n",
      "14/27 [==============>...............] - ETA: 3:47Loss:  0.00148493133\n",
      "15/27 [===============>..............] - ETA: 3:29Loss:  0.00753907626\n",
      "16/27 [================>.............] - ETA: 3:11Loss:  0.0160753224\n",
      "17/27 [=================>............] - ETA: 2:54Loss:  0.000778424204\n",
      "18/27 [===================>..........] - ETA: 2:37Loss:  0.00602024281\n",
      "19/27 [====================>.........] - ETA: 2:19Loss:  0.00887427852\n",
      "20/27 [=====================>........] - ETA: 2:02Loss:  0.0281529594\n",
      "21/27 [======================>.......] - ETA: 1:44Loss:  0.0238349885\n",
      "22/27 [=======================>......] - ETA: 1:27Loss:  2.54439283e-06\n",
      "23/27 [========================>.....] - ETA: 1:09Loss:  0.0201766584\n",
      "24/27 [=========================>....] - ETA: 52s Loss:  0.00377088436\n",
      "25/27 [==========================>...] - ETA: 34sLoss:  0.000667266315\n",
      "26/27 [===========================>..] - ETA: 17sLoss:  0.00292191259\n",
      "27/27 [==============================] - 458s 17s/step\n",
      "\n",
      " Epoch 33/50\n",
      "Loss:  7.21529941e-05\n",
      " 1/27 [>.............................] - ETA: 7:48Loss:  0.00395146711\n",
      " 2/27 [=>............................] - ETA: 7:33Loss:  0.0172629189\n",
      " 3/27 [==>...........................] - ETA: 7:02Loss:  0.0036646754\n",
      " 4/27 [===>..........................] - ETA: 6:40Loss:  0.00332055194\n",
      " 5/27 [====>.........................] - ETA: 6:23Loss:  0.000498484704\n",
      " 6/27 [=====>........................] - ETA: 6:07Loss:  0.000883082219\n",
      " 7/27 [======>.......................] - ETA: 5:48Loss:  1.34009179e-05\n",
      " 8/27 [=======>......................] - ETA: 5:29Loss:  0.0176011696\n",
      " 9/27 [=========>....................] - ETA: 5:12Loss:  0.00518361107\n",
      "10/27 [==========>...................] - ETA: 4:56Loss:  0.00225299783\n",
      "11/27 [===========>..................] - ETA: 4:38Loss:  0.0255226064\n",
      "12/27 [============>.................] - ETA: 4:20Loss:  0.0014991269\n",
      "13/27 [=============>................] - ETA: 4:03Loss:  1.44142159e-05\n",
      "14/27 [==============>...............] - ETA: 3:46Loss:  0.000524738512\n",
      "15/27 [===============>..............] - ETA: 3:28Loss:  0.0471147932\n",
      "16/27 [================>.............] - ETA: 3:11Loss:  0.00357115036\n",
      "17/27 [=================>............] - ETA: 2:54Loss:  0.000204207798\n",
      "18/27 [===================>..........] - ETA: 2:36Loss:  0.0130294207\n",
      "19/27 [====================>.........] - ETA: 2:19Loss:  0.000657091674\n",
      "20/27 [=====================>........] - ETA: 2:01Loss:  0.00449928921\n",
      "21/27 [======================>.......] - ETA: 1:45Loss:  0.0625857264\n",
      "22/27 [=======================>......] - ETA: 1:27Loss:  1.75088758e-07\n",
      "23/27 [========================>.....] - ETA: 1:10Loss:  0.00773829781\n",
      "24/27 [=========================>....] - ETA: 52s Loss:  0.0103938514\n",
      "25/27 [==========================>...] - ETA: 35sLoss:  0.00267384527\n",
      "26/27 [===========================>..] - ETA: 17sLoss:  0\n",
      "27/27 [==============================] - 461s 17s/step\n",
      "\n",
      " Epoch 34/50\n",
      "Loss:  0.00525258761\n",
      " 1/27 [>.............................] - ETA: 7:26Loss:  0.00719242496\n",
      " 2/27 [=>............................] - ETA: 7:38Loss:  0.000890696247\n",
      " 3/27 [==>...........................] - ETA: 7:02Loss:  0.00569795398\n",
      " 4/27 [===>..........................] - ETA: 6:38Loss:  0.000436212518\n",
      " 5/27 [====>.........................] - ETA: 6:20Loss:  0.00313624647\n",
      " 6/27 [=====>........................] - ETA: 6:07Loss:  0.0019210265\n",
      " 7/27 [======>.......................] - ETA: 5:50Loss:  0.000360018719\n",
      " 8/27 [=======>......................] - ETA: 5:31Loss:  2.12990053e-05\n",
      " 9/27 [=========>....................] - ETA: 5:12Loss:  0.00506329816\n",
      "10/27 [==========>...................] - ETA: 4:55Loss:  0.000815614301\n",
      "11/27 [===========>..................] - ETA: 4:39Loss:  0.0188387744\n",
      "12/27 [============>.................] - ETA: 4:21Loss:  0.0014949101\n",
      "13/27 [=============>................] - ETA: 4:02Loss:  0.00402769027\n",
      "14/27 [==============>...............] - ETA: 3:46Loss:  0.000399746932\n",
      "15/27 [===============>..............] - ETA: 3:28Loss:  0.0452719256\n",
      "16/27 [================>.............] - ETA: 3:10Loss:  0.000305432099\n",
      "17/27 [=================>............] - ETA: 2:52Loss:  0.0388493724\n",
      "18/27 [===================>..........] - ETA: 2:36Loss:  0.00542062428\n",
      "19/27 [====================>.........] - ETA: 2:18Loss:  0.00223020837\n",
      "20/27 [=====================>........] - ETA: 2:01Loss:  0.00188991241\n",
      "21/27 [======================>.......] - ETA: 1:43Loss:  0.0123267788\n",
      "22/27 [=======================>......] - ETA: 1:26Loss:  0.0123282894\n",
      "23/27 [========================>.....] - ETA: 1:09Loss:  0.0362629369\n",
      "24/27 [=========================>....] - ETA: 52s Loss:  0.00267626159\n",
      "25/27 [==========================>...] - ETA: 34sLoss:  0.00206888886\n",
      "26/27 [===========================>..] - ETA: 17sLoss:  0.00214156415\n",
      "27/27 [==============================] - 457s 17s/step\n",
      "\n",
      " Epoch 35/50\n",
      "Loss:  9.13740951e-05\n",
      " 1/27 [>.............................] - ETA: 7:32Loss:  0.00271154079\n",
      " 2/27 [=>............................] - ETA: 7:03Loss:  0.00750258565\n",
      " 3/27 [==>...........................] - ETA: 6:48Loss:  0.00141400716\n",
      " 4/27 [===>..........................] - ETA: 6:41Loss:  0.00464066491\n",
      " 5/27 [====>.........................] - ETA: 6:27Loss:  0.00602502795\n",
      " 6/27 [=====>........................] - ETA: 6:05Loss:  0.0263474975\n",
      " 7/27 [======>.......................] - ETA: 5:45Loss:  0.0143042775\n",
      " 8/27 [=======>......................] - ETA: 5:29Loss:  0.00186339603\n",
      " 9/27 [=========>....................] - ETA: 5:13Loss:  0.0315550677\n",
      "10/27 [==========>...................] - ETA: 4:54Loss:  0.00602940796\n",
      "11/27 [===========>..................] - ETA: 4:36Loss:  0.00978386\n"
     ]
    },
    {
     "name": "stdout",
     "output_type": "stream",
     "text": [
      "12/27 [============>.................] - ETA: 4:20Loss:  0.00163601467\n",
      "13/27 [=============>................] - ETA: 4:03Loss:  0.000680140802\n",
      "14/27 [==============>...............] - ETA: 3:45Loss:  0.0730164945\n",
      "15/27 [===============>..............] - ETA: 3:27Loss:  0.000430889253\n",
      "16/27 [================>.............] - ETA: 3:11Loss:  0.000875389553\n",
      "17/27 [=================>............] - ETA: 2:53Loss:  0.0021979895\n",
      "18/27 [===================>..........] - ETA: 2:36Loss:  0.000135565933\n",
      "19/27 [====================>.........] - ETA: 2:18Loss:  1.6093361e-06\n",
      "20/27 [=====================>........] - ETA: 2:01Loss:  0.000536754145\n",
      "21/27 [======================>.......] - ETA: 1:44Loss:  0.00287770433\n",
      "22/27 [=======================>......] - ETA: 1:26Loss:  0.000552010664\n",
      "23/27 [========================>.....] - ETA: 1:09Loss:  0.00481015909\n",
      "24/27 [=========================>....] - ETA: 52s Loss:  0.0207307786\n",
      "25/27 [==========================>...] - ETA: 34sLoss:  0.0127655268\n",
      "26/27 [===========================>..] - ETA: 17sLoss:  0.000306227535\n",
      "27/27 [==============================] - 457s 17s/step\n",
      "\n",
      " Epoch 36/50\n",
      "Loss:  0.0100727268\n",
      " 1/27 [>.............................] - ETA: 7:37Loss:  0.0019955372\n",
      " 2/27 [=>............................] - ETA: 7:27Loss:  0.00102413411\n",
      " 3/27 [==>...........................] - ETA: 7:02Loss:  1.46603325e-05\n",
      " 4/27 [===>..........................] - ETA: 6:50Loss:  0.0313365422\n",
      " 5/27 [====>.........................] - ETA: 6:33Loss:  0.00730545074\n",
      " 6/27 [=====>........................] - ETA: 6:11Loss:  1.17314667e-05\n",
      " 7/27 [======>.......................] - ETA: 5:53Loss:  0.00328337448\n",
      " 8/27 [=======>......................] - ETA: 5:36Loss:  0.00400843\n",
      " 9/27 [=========>....................] - ETA: 5:16Loss:  0.00249230419\n",
      "10/27 [==========>...................] - ETA: 4:58Loss:  0.0445649773\n",
      "11/27 [===========>..................] - ETA: 4:42Loss:  0.0341366976\n",
      "12/27 [============>.................] - ETA: 4:23Loss:  0.00222859345\n",
      "13/27 [=============>................] - ETA: 4:05Loss:  0.00112744863\n",
      "14/27 [==============>...............] - ETA: 3:47Loss:  0.0018414068\n",
      "15/27 [===============>..............] - ETA: 3:30Loss:  0.00122981297\n",
      "16/27 [================>.............] - ETA: 3:12Loss:  0.00243159477\n",
      "17/27 [=================>............] - ETA: 2:54Loss:  0.0226282924\n",
      "18/27 [===================>..........] - ETA: 2:37Loss:  1.25702445e-05\n",
      "19/27 [====================>.........] - ETA: 2:19Loss:  6.12982622e-05\n",
      "20/27 [=====================>........] - ETA: 2:01Loss:  0.0428706557\n",
      "21/27 [======================>.......] - ETA: 1:44Loss:  0.0015044132\n",
      "22/27 [=======================>......] - ETA: 1:27Loss:  0.000752443681\n",
      "23/27 [========================>.....] - ETA: 1:09Loss:  0.00471787248\n",
      "24/27 [=========================>....] - ETA: 52s Loss:  0.010882319\n",
      "25/27 [==========================>...] - ETA: 34sLoss:  0.000222661241\n",
      "26/27 [===========================>..] - ETA: 17sLoss:  4.32134044e-07\n",
      "27/27 [==============================] - 459s 17s/step\n",
      "\n",
      " Epoch 37/50\n",
      "Loss:  0.00302953459\n",
      " 1/27 [>.............................] - ETA: 7:18Loss:  0.00961599\n",
      " 2/27 [=>............................] - ETA: 7:31Loss:  0.0612820126\n",
      " 3/27 [==>...........................] - ETA: 7:09Loss:  0.0151294768\n",
      " 4/27 [===>..........................] - ETA: 6:43Loss:  0.00102379895\n",
      " 5/27 [====>.........................] - ETA: 6:21Loss:  0.00140280079\n",
      " 6/27 [=====>........................] - ETA: 6:08Loss:  0.00252638292\n",
      " 7/27 [======>.......................] - ETA: 5:52Loss:  0.000457697664\n",
      " 8/27 [=======>......................] - ETA: 5:33Loss:  1.08260083e-05\n",
      " 9/27 [=========>....................] - ETA: 5:13Loss:  5.5776949e-05\n",
      "10/27 [==========>...................] - ETA: 4:56Loss:  0.00184271496\n",
      "11/27 [===========>..................] - ETA: 4:40Loss:  0.00556670316\n",
      "12/27 [============>.................] - ETA: 4:22Loss:  0.000138498464\n",
      "13/27 [=============>................] - ETA: 4:03Loss:  0.00574015779\n",
      "14/27 [==============>...............] - ETA: 3:46Loss:  0.00685547385\n",
      "15/27 [===============>..............] - ETA: 3:30Loss:  0.00108904589\n",
      "16/27 [================>.............] - ETA: 3:12Loss:  0.0369481146\n",
      "17/27 [=================>............] - ETA: 2:54Loss:  0.00217039953\n",
      "18/27 [===================>..........] - ETA: 2:37Loss:  0.0040495852\n",
      "19/27 [====================>.........] - ETA: 2:19Loss:  0.00125429686\n",
      "20/27 [=====================>........] - ETA: 2:02Loss:  0.0106715141\n",
      "21/27 [======================>.......] - ETA: 1:44Loss:  0.000562310684\n",
      "22/27 [=======================>......] - ETA: 1:27Loss:  0.000151652392\n",
      "23/27 [========================>.....] - ETA: 1:09Loss:  0.000188366161\n",
      "24/27 [=========================>....] - ETA: 52s Loss:  0.00143893587\n",
      "25/27 [==========================>...] - ETA: 34sLoss:  0.00348352338\n",
      "26/27 [===========================>..] - ETA: 17sLoss:  0.00515603647\n",
      "27/27 [==============================] - 459s 17s/step\n",
      "\n",
      " Epoch 38/50\n",
      "Loss:  0.0451549962\n",
      " 1/27 [>.............................] - ETA: 7:18Loss:  3.17946578e-05\n",
      " 2/27 [=>............................] - ETA: 7:27Loss:  0.00659677526\n",
      " 3/27 [==>...........................] - ETA: 7:08Loss:  0.0006253639\n",
      " 4/27 [===>..........................] - ETA: 6:42Loss:  0.0102222245\n",
      " 5/27 [====>.........................] - ETA: 6:21Loss:  0.00075051008\n",
      " 6/27 [=====>........................] - ETA: 6:09Loss:  0.000459824718\n",
      " 7/27 [======>.......................] - ETA: 5:51Loss:  0.0273559559\n",
      " 8/27 [=======>......................] - ETA: 5:31Loss:  0.000915230834\n",
      " 9/27 [=========>....................] - ETA: 5:13Loss:  0.000132631583\n",
      "10/27 [==========>...................] - ETA: 4:57Loss:  0.00442699576\n",
      "11/27 [===========>..................] - ETA: 4:40Loss:  0.00208934862\n",
      "12/27 [============>.................] - ETA: 4:21Loss:  0.00220404193\n",
      "13/27 [=============>................] - ETA: 4:03Loss:  0.00407234672\n",
      "14/27 [==============>...............] - ETA: 3:47Loss:  1.22790407e-05\n",
      "15/27 [===============>..............] - ETA: 3:30Loss:  0.00753436191\n",
      "16/27 [================>.............] - ETA: 3:12Loss:  0.00123967\n",
      "17/27 [=================>............] - ETA: 2:54Loss:  0.00220168289\n",
      "18/27 [===================>..........] - ETA: 2:37Loss:  0.00144435884\n",
      "19/27 [====================>.........] - ETA: 2:20Loss:  0.000472799613\n",
      "20/27 [=====================>........] - ETA: 2:02Loss:  0.000522783666\n",
      "21/27 [======================>.......] - ETA: 1:44Loss:  5.68634059e-05\n",
      "22/27 [=======================>......] - ETA: 1:27Loss:  0.00103875354\n",
      "23/27 [========================>.....] - ETA: 1:10Loss:  0.00130251923\n",
      "24/27 [=========================>....] - ETA: 52s Loss:  0.0288336\n",
      "25/27 [==========================>...] - ETA: 34sLoss:  0.00313582458\n",
      "26/27 [===========================>..] - ETA: 17sLoss:  2.14577653e-06\n",
      "27/27 [==============================] - 460s 17s/step\n",
      "\n",
      " Epoch 39/50\n",
      "Loss:  0.000620841223\n",
      " 1/27 [>.............................] - ETA: 7:37Loss:  0.00209550536\n",
      " 2/27 [=>............................] - ETA: 6:59Loss:  0.00028672372\n",
      " 3/27 [==>...........................] - ETA: 6:41Loss:  2.9525183e-05\n",
      " 4/27 [===>..........................] - ETA: 6:34Loss:  0.00595572079\n",
      " 5/27 [====>.........................] - ETA: 6:21Loss:  2.63308793e-05\n",
      " 6/27 [=====>........................] - ETA: 6:02Loss:  0.0212212186\n",
      " 7/27 [======>.......................] - ETA: 5:44Loss:  0.0423016362\n",
      " 8/27 [=======>......................] - ETA: 5:29Loss:  0.000523885537\n",
      " 9/27 [=========>....................] - ETA: 5:13Loss:  5.20038666e-05\n",
      "10/27 [==========>...................] - ETA: 4:55Loss:  0.00227866881\n",
      "11/27 [===========>..................] - ETA: 4:36Loss:  0.00717236381\n",
      "12/27 [============>.................] - ETA: 4:20Loss:  0.00604567723\n",
      "13/27 [=============>................] - ETA: 4:03Loss:  0.0134967761\n",
      "14/27 [==============>...............] - ETA: 3:45Loss:  0.0271164719\n",
      "15/27 [===============>..............] - ETA: 3:28Loss:  0.000617551035\n",
      "16/27 [================>.............] - ETA: 3:11Loss:  0.026431974\n",
      "17/27 [=================>............] - ETA: 2:54Loss:  0.000437920826\n"
     ]
    },
    {
     "name": "stdout",
     "output_type": "stream",
     "text": [
      "18/27 [===================>..........] - ETA: 2:36Loss:  0.0018521056\n",
      "19/27 [====================>.........] - ETA: 2:18Loss:  0.000386163185\n",
      "20/27 [=====================>........] - ETA: 2:01Loss:  0.000288037467\n",
      "21/27 [======================>.......] - ETA: 1:44Loss:  0.00491851\n",
      "22/27 [=======================>......] - ETA: 1:26Loss:  5.12240103e-06\n",
      "23/27 [========================>.....] - ETA: 1:09Loss:  0.000153320507\n",
      "24/27 [=========================>....] - ETA: 52s Loss:  0.00135067618\n",
      "25/27 [==========================>...] - ETA: 34sLoss:  0.000157760864\n",
      "26/27 [===========================>..] - ETA: 17sLoss:  0\n",
      "27/27 [==============================] - 458s 17s/step\n",
      "\n",
      " Epoch 40/50\n",
      "Loss:  0.00129190553\n",
      " 1/27 [>.............................] - ETA: 7:57Loss:  0.00503206858\n",
      " 2/27 [=>............................] - ETA: 7:01Loss:  2.16067207e-07\n",
      " 3/27 [==>...........................] - ETA: 6:43Loss:  0.00293210428\n",
      " 4/27 [===>..........................] - ETA: 6:36Loss:  4.41458269e-06\n",
      " 5/27 [====>.........................] - ETA: 6:21Loss:  0.00138679158\n",
      " 6/27 [=====>........................] - ETA: 6:01Loss:  0.000198996102\n",
      " 7/27 [======>.......................] - ETA: 5:43Loss:  0.00200983719\n",
      " 8/27 [=======>......................] - ETA: 5:30Loss:  0.00116854138\n",
      " 9/27 [=========>....................] - ETA: 5:13Loss:  0.000360959646\n",
      "10/27 [==========>...................] - ETA: 4:54Loss:  0.00192723714\n",
      "11/27 [===========>..................] - ETA: 4:37Loss:  0.00107610237\n",
      "12/27 [============>.................] - ETA: 4:20Loss:  0.00012712591\n",
      "13/27 [=============>................] - ETA: 4:03Loss:  0.00207528821\n",
      "14/27 [==============>...............] - ETA: 3:45Loss:  0.00166115037\n",
      "15/27 [===============>..............] - ETA: 3:27Loss:  0.00208644825\n",
      "16/27 [================>.............] - ETA: 3:11Loss:  0.0188755561\n",
      "17/27 [=================>............] - ETA: 2:54Loss:  0.00275001745\n",
      "18/27 [===================>..........] - ETA: 2:36Loss:  0.00634737173\n",
      "19/27 [====================>.........] - ETA: 2:19Loss:  0.000470192812\n",
      "20/27 [=====================>........] - ETA: 2:01Loss:  0.0411799401\n",
      "21/27 [======================>.......] - ETA: 1:44Loss:  0.0213626754\n",
      "22/27 [=======================>......] - ETA: 1:27Loss:  0.0200106911\n",
      "23/27 [========================>.....] - ETA: 1:09Loss:  0.0198894665\n",
      "24/27 [=========================>....] - ETA: 52s Loss:  0.0022043793\n",
      "25/27 [==========================>...] - ETA: 35sLoss:  2.97281304e-06\n",
      "26/27 [===========================>..] - ETA: 17sLoss:  0.168885604\n",
      "27/27 [==============================] - 463s 17s/step\n",
      "\n",
      " Epoch 41/50\n",
      "Loss:  0.00162745814\n",
      " 1/27 [>.............................] - ETA: 7:32Loss:  0.00196038047\n",
      " 2/27 [=>............................] - ETA: 6:48Loss:  0.0427021161\n",
      " 3/27 [==>...........................] - ETA: 6:44Loss:  0.000301955559\n",
      " 4/27 [===>..........................] - ETA: 6:32Loss:  0.00361371739\n",
      " 5/27 [====>.........................] - ETA: 6:11Loss:  0.000720810436\n",
      " 6/27 [=====>........................] - ETA: 5:52Loss:  0.0017766034\n",
      " 7/27 [======>.......................] - ETA: 5:39Loss:  0.0228633434\n",
      " 8/27 [=======>......................] - ETA: 5:24Loss:  0.0211201422\n",
      " 9/27 [=========>....................] - ETA: 5:06Loss:  0.00159234623\n",
      "10/27 [==========>...................] - ETA: 4:48Loss:  0.00108860189\n",
      "11/27 [===========>..................] - ETA: 4:33Loss:  0.00217054761\n",
      "12/27 [============>.................] - ETA: 4:16Loss:  0.00803074427\n",
      "13/27 [=============>................] - ETA: 3:59Loss:  0.00085797\n",
      "14/27 [==============>...............] - ETA: 3:41Loss:  0.0003840758\n",
      "15/27 [===============>..............] - ETA: 3:25Loss:  0.000261143316\n",
      "16/27 [================>.............] - ETA: 3:08Loss:  0.0427811071\n",
      "17/27 [=================>............] - ETA: 2:51Loss:  6.84273255e-05\n",
      "18/27 [===================>..........] - ETA: 2:33Loss:  0.0204989053\n",
      "19/27 [====================>.........] - ETA: 2:17Loss:  0.00284083304\n",
      "20/27 [=====================>........] - ETA: 2:00Loss:  0.000949718407\n",
      "21/27 [======================>.......] - ETA: 1:42Loss:  8.82661916e-05\n",
      "22/27 [=======================>......] - ETA: 1:25Loss:  0.00013283531\n",
      "23/27 [========================>.....] - ETA: 1:08Loss:  0.00651222188\n",
      "24/27 [=========================>....] - ETA: 51s Loss:  0.000540865236\n",
      "25/27 [==========================>...] - ETA: 34sLoss:  6.16939e-05\n",
      "26/27 [===========================>..] - ETA: 17sLoss:  0.000373117888\n",
      "27/27 [==============================] - 451s 17s/step\n",
      "\n",
      " Epoch 42/50\n",
      "Loss:  0.000582553097\n",
      " 1/27 [>.............................] - ETA: 7:46Loss:  0.00210548611\n",
      " 2/27 [=>............................] - ETA: 7:08Loss:  0.000715305621\n",
      " 3/27 [==>...........................] - ETA: 6:45Loss:  0.0035296469\n",
      " 4/27 [===>..........................] - ETA: 6:28Loss:  0.000995876268\n",
      " 5/27 [====>.........................] - ETA: 6:16Loss:  0.00228227093\n",
      " 6/27 [=====>........................] - ETA: 6:01Loss:  0.0204755738\n",
      " 7/27 [======>.......................] - ETA: 5:41Loss:  0.00013131072\n",
      " 8/27 [=======>......................] - ETA: 5:22Loss:  4.99256639e-05\n",
      " 9/27 [=========>....................] - ETA: 5:08Loss:  0.00143259601\n",
      "10/27 [==========>...................] - ETA: 4:52Loss:  0.00538953207\n",
      "11/27 [===========>..................] - ETA: 4:33Loss:  0.0219945759\n",
      "12/27 [============>.................] - ETA: 4:15Loss:  0.0201987363\n",
      "13/27 [=============>................] - ETA: 3:59Loss:  0.00263930042\n",
      "14/27 [==============>...............] - ETA: 3:43Loss:  0.00152942468\n",
      "15/27 [===============>..............] - ETA: 3:25Loss:  1.22050569e-05\n",
      "16/27 [================>.............] - ETA: 3:08Loss:  5.94913145e-05\n",
      "17/27 [=================>............] - ETA: 2:51Loss:  0.0213309452\n",
      "18/27 [===================>..........] - ETA: 2:34Loss:  0.00168272888\n",
      "19/27 [====================>.........] - ETA: 2:17Loss:  0.00491841\n",
      "20/27 [=====================>........] - ETA: 1:59Loss:  0.0012318826\n",
      "21/27 [======================>.......] - ETA: 1:43Loss:  0.00560005708\n",
      "22/27 [=======================>......] - ETA: 1:25Loss:  0.0121724596\n",
      "23/27 [========================>.....] - ETA: 1:08Loss:  0.00426870491\n",
      "24/27 [=========================>....] - ETA: 51s Loss:  0.000828140124\n",
      "25/27 [==========================>...] - ETA: 34sLoss:  0.00146189274\n",
      "26/27 [===========================>..] - ETA: 17sLoss:  0.015153449\n",
      "27/27 [==============================] - 453s 17s/step\n",
      "\n",
      " Epoch 43/50\n",
      "Loss:  0.00217606919\n",
      " 1/27 [>.............................] - ETA: 7:10Loss:  0.00180482562\n",
      " 2/27 [=>............................] - ETA: 6:55Loss:  0.079568848\n",
      " 3/27 [==>...........................] - ETA: 6:57Loss:  0.00582138868\n",
      " 4/27 [===>..........................] - ETA: 6:40Loss:  0.01556498\n",
      " 5/27 [====>.........................] - ETA: 6:17Loss:  0.000567601644\n",
      " 6/27 [=====>........................] - ETA: 5:59Loss:  0.00199979707\n",
      " 7/27 [======>.......................] - ETA: 5:44Loss:  7.37223454e-05\n",
      " 8/27 [=======>......................] - ETA: 5:28Loss:  0.00121979171\n",
      " 9/27 [=========>....................] - ETA: 5:09Loss:  0.00116529327\n",
      "10/27 [==========>...................] - ETA: 4:51Loss:  7.49713436e-05\n",
      "11/27 [===========>..................] - ETA: 4:35Loss:  0.000403249112\n",
      "12/27 [============>.................] - ETA: 4:19Loss:  2.49697259e-05\n",
      "13/27 [=============>................] - ETA: 4:01Loss:  2.90942407e-05\n",
      "14/27 [==============>...............] - ETA: 3:43Loss:  0.00548957847\n",
      "15/27 [===============>..............] - ETA: 3:26Loss:  0.000126542858\n",
      "16/27 [================>.............] - ETA: 3:10Loss:  2.64931987e-05\n",
      "17/27 [=================>............] - ETA: 2:52Loss:  0.00106661639\n",
      "18/27 [===================>..........] - ETA: 2:34Loss:  0.00381635944\n",
      "19/27 [====================>.........] - ETA: 2:18Loss:  0.00568774156\n",
      "20/27 [=====================>........] - ETA: 2:00Loss:  0.0016605641\n",
      "21/27 [======================>.......] - ETA: 1:43Loss:  2.65922e-05\n",
      "22/27 [=======================>......] - ETA: 1:26Loss:  0.000277751242\n",
      "23/27 [========================>.....] - ETA: 1:08Loss:  0.00272467\n",
      "24/27 [=========================>....] - ETA: 51s Loss:  0.00123809\n"
     ]
    },
    {
     "name": "stdout",
     "output_type": "stream",
     "text": [
      "25/27 [==========================>...] - ETA: 34sLoss:  0.000495187182\n",
      "26/27 [===========================>..] - ETA: 17sLoss:  5.3635e-05\n",
      "27/27 [==============================] - 453s 17s/step\n",
      "\n",
      " Epoch 44/50\n",
      "Loss:  0.00157709094\n",
      " 1/27 [>.............................] - ETA: 7:47Loss:  0.00013743958\n",
      " 2/27 [=>............................] - ETA: 6:55Loss:  0.000969745161\n",
      " 3/27 [==>...........................] - ETA: 6:39Loss:  0.000949934591\n",
      " 4/27 [===>..........................] - ETA: 6:31Loss:  0.000584703579\n",
      " 5/27 [====>.........................] - ETA: 6:16Loss:  0.00250406051\n",
      " 6/27 [=====>........................] - ETA: 5:56Loss:  0.000136241084\n",
      " 7/27 [======>.......................] - ETA: 5:38Loss:  0.00146104489\n",
      " 8/27 [=======>......................] - ETA: 5:24Loss:  0.00740321772\n",
      " 9/27 [=========>....................] - ETA: 5:08Loss:  0.000495504704\n",
      "10/27 [==========>...................] - ETA: 4:50Loss:  0.00473900093\n",
      "11/27 [===========>..................] - ETA: 4:32Loss:  0.00150302588\n",
      "12/27 [============>.................] - ETA: 4:16Loss:  0.00159112795\n",
      "13/27 [=============>................] - ETA: 3:59Loss:  0.00111342198\n",
      "14/27 [==============>...............] - ETA: 3:42Loss:  0.0117778592\n",
      "15/27 [===============>..............] - ETA: 3:24Loss:  0.000424030295\n",
      "16/27 [================>.............] - ETA: 3:08Loss:  0.000647816225\n",
      "17/27 [=================>............] - ETA: 2:51Loss:  0.0227431823\n",
      "18/27 [===================>..........] - ETA: 2:33Loss:  0.00269485824\n",
      "19/27 [====================>.........] - ETA: 2:16Loss:  0.000830810051\n",
      "20/27 [=====================>........] - ETA: 1:59Loss:  0.000137113951\n",
      "21/27 [======================>.......] - ETA: 1:42Loss:  0.00308469869\n",
      "22/27 [=======================>......] - ETA: 1:25Loss:  0.000954329153\n",
      "23/27 [========================>.....] - ETA: 1:08Loss:  2.181739e-05\n",
      "24/27 [=========================>....] - ETA: 51s Loss:  0.00106244709\n",
      "25/27 [==========================>...] - ETA: 34sLoss:  0.0435024314\n",
      "26/27 [===========================>..] - ETA: 17sLoss:  0.00209164899\n",
      "27/27 [==============================] - 451s 17s/step\n",
      "\n",
      " Epoch 45/50\n",
      "Loss:  0.0099653136\n",
      " 1/27 [>.............................] - ETA: 7:12Loss:  0.000504423864\n",
      " 2/27 [=>............................] - ETA: 7:30Loss:  0.000554727798\n",
      " 3/27 [==>...........................] - ETA: 7:06Loss:  0.00302122394\n",
      " 4/27 [===>..........................] - ETA: 6:39Loss:  0.00313460967\n",
      " 5/27 [====>.........................] - ETA: 6:17Loss:  0.000642363797\n",
      " 6/27 [=====>........................] - ETA: 6:02Loss:  0.000174153727\n",
      " 7/27 [======>.......................] - ETA: 5:46Loss:  0.00105180964\n",
      " 8/27 [=======>......................] - ETA: 5:27Loss:  0.000730515458\n",
      " 9/27 [=========>....................] - ETA: 5:08Loss:  0.00221539405\n",
      "10/27 [==========>...................] - ETA: 4:52Loss:  0.000836014\n",
      "11/27 [===========>..................] - ETA: 4:36Loss:  0.00243703905\n",
      "12/27 [============>.................] - ETA: 4:18Loss:  0.00320490706\n",
      "13/27 [=============>................] - ETA: 4:00Loss:  0.000700723846\n",
      "14/27 [==============>...............] - ETA: 3:43Loss:  0.0187241901\n",
      "15/27 [===============>..............] - ETA: 3:27Loss:  0.000131465873\n",
      "16/27 [================>.............] - ETA: 3:09Loss:  0.00135882129\n",
      "17/27 [=================>............] - ETA: 2:51Loss:  0.00125819177\n",
      "18/27 [===================>..........] - ETA: 2:34Loss:  0.0244552214\n",
      "19/27 [====================>.........] - ETA: 2:17Loss:  4.73213149e-05\n",
      "20/27 [=====================>........] - ETA: 2:00Loss:  0.00123640371\n",
      "21/27 [======================>.......] - ETA: 1:43Loss:  0.000726785394\n",
      "22/27 [=======================>......] - ETA: 1:25Loss:  0.0423203297\n",
      "23/27 [========================>.....] - ETA: 1:08Loss:  0.000710888242\n",
      "24/27 [=========================>....] - ETA: 51s Loss:  3.22987876e-06\n",
      "25/27 [==========================>...] - ETA: 34sLoss:  0.000961642305\n",
      "26/27 [===========================>..] - ETA: 17sLoss:  0.00134167832\n",
      "27/27 [==============================] - 452s 17s/step\n",
      "\n",
      " Epoch 46/50\n",
      "Loss:  0.00050747249\n",
      " 1/27 [>.............................] - ETA: 7:31Loss:  0.0461487658\n",
      " 2/27 [=>............................] - ETA: 6:59Loss:  0.0159907062\n",
      " 3/27 [==>...........................] - ETA: 6:39Loss:  0.00056261674\n",
      " 4/27 [===>..........................] - ETA: 6:30Loss:  0.000470371597\n",
      " 5/27 [====>.........................] - ETA: 6:20Loss:  0.00173906959\n",
      " 6/27 [=====>........................] - ETA: 6:00Loss:  0.00018638614\n",
      " 7/27 [======>.......................] - ETA: 5:41Loss:  0.0012196009\n",
      " 8/27 [=======>......................] - ETA: 5:26Loss:  0.0121045057\n",
      " 9/27 [=========>....................] - ETA: 5:10Loss:  0.00225947751\n",
      "10/27 [==========>...................] - ETA: 4:52Loss:  0.00013737999\n",
      "11/27 [===========>..................] - ETA: 4:33Loss:  0.000658396166\n",
      "12/27 [============>.................] - ETA: 4:17Loss:  0.000428573927\n",
      "13/27 [=============>................] - ETA: 4:00Loss:  0.000933731731\n",
      "14/27 [==============>...............] - ETA: 3:43Loss:  0.00338243367\n",
      "15/27 [===============>..............] - ETA: 3:25Loss:  0.00582064409\n",
      "16/27 [================>.............] - ETA: 3:08Loss:  0.00341688772\n",
      "17/27 [=================>............] - ETA: 2:52Loss:  9.86460363e-05\n",
      "18/27 [===================>..........] - ETA: 2:34Loss:  0.00580814574\n",
      "19/27 [====================>.........] - ETA: 2:17Loss:  9.33585761e-06\n",
      "20/27 [=====================>........] - ETA: 2:00Loss:  0.000220906164\n",
      "21/27 [======================>.......] - ETA: 1:43Loss:  0.00237551378\n",
      "22/27 [=======================>......] - ETA: 1:25Loss:  0.0500401929\n",
      "23/27 [========================>.....] - ETA: 1:08Loss:  0.00082928437\n",
      "24/27 [=========================>....] - ETA: 51s Loss:  0.000682297279\n",
      "25/27 [==========================>...] - ETA: 34sLoss:  0.000747261336\n",
      "26/27 [===========================>..] - ETA: 17sLoss:  0.000167902414\n",
      "27/27 [==============================] - 452s 17s/step\n",
      "\n",
      " Epoch 47/50\n",
      "Loss:  0.000577544619\n",
      " 1/27 [>.............................] - ETA: 7:51Loss:  1.01480737e-05\n",
      " 2/27 [=>............................] - ETA: 6:48Loss:  0.0102542974\n",
      " 3/27 [==>...........................] - ETA: 6:35Loss:  0.00104553718\n",
      " 4/27 [===>..........................] - ETA: 6:32Loss:  0.00228004227\n",
      " 5/27 [====>.........................] - ETA: 6:15Loss:  0.000189145561\n",
      " 6/27 [=====>........................] - ETA: 5:55Loss:  0.0031807418\n",
      " 7/27 [======>.......................] - ETA: 5:38Loss:  0.000111063011\n",
      " 8/27 [=======>......................] - ETA: 5:24Loss:  0.00132864318\n",
      " 9/27 [=========>....................] - ETA: 5:08Loss:  0.000214300162\n",
      "10/27 [==========>...................] - ETA: 4:50Loss:  0.00270711584\n",
      "11/27 [===========>..................] - ETA: 4:33Loss:  0.00052837719\n",
      "12/27 [============>.................] - ETA: 4:17Loss:  0.0431239642\n",
      "13/27 [=============>................] - ETA: 4:00Loss:  0.0171121377\n",
      "14/27 [==============>...............] - ETA: 3:43Loss:  0.000443103025\n",
      "15/27 [===============>..............] - ETA: 3:25Loss:  9.49806345e-05\n",
      "16/27 [================>.............] - ETA: 3:08Loss:  0.00344200525\n",
      "17/27 [=================>............] - ETA: 2:51Loss:  0.00136469677\n",
      "18/27 [===================>..........] - ETA: 2:34Loss:  0.00127988262\n",
      "19/27 [====================>.........] - ETA: 2:17Loss:  0.0138058644\n",
      "20/27 [=====================>........] - ETA: 2:00Loss:  0.00191357231\n",
      "21/27 [======================>.......] - ETA: 1:42Loss:  0.00178800209\n",
      "22/27 [=======================>......] - ETA: 1:25Loss:  0.000877254934\n",
      "23/27 [========================>.....] - ETA: 1:08Loss:  0.000943422958\n",
      "24/27 [=========================>....] - ETA: 51s Loss:  0.000233567494\n",
      "25/27 [==========================>...] - ETA: 34sLoss:  0.00160984322\n",
      "26/27 [===========================>..] - ETA: 17sLoss:  3.47358146e-05\n",
      "27/27 [==============================] - 453s 17s/step\n",
      "\n",
      " Epoch 48/50\n",
      "Loss:  7.60217299e-05\n",
      " 1/27 [>.............................] - ETA: 7:32Loss:  0.0148720974\n",
      " 2/27 [=>............................] - ETA: 6:51Loss:  0.00314607099\n",
      " 3/27 [==>...........................] - ETA: 6:40Loss:  2.77164827e-06\n"
     ]
    },
    {
     "name": "stdout",
     "output_type": "stream",
     "text": [
      " 4/27 [===>..........................] - ETA: 6:32Loss:  0.00122575311\n",
      " 5/27 [====>.........................] - ETA: 6:17Loss:  0.000840065826\n",
      " 6/27 [=====>........................] - ETA: 5:57Loss:  0.0120525816\n",
      " 7/27 [======>.......................] - ETA: 5:39Loss:  0.0420558341\n",
      " 8/27 [=======>......................] - ETA: 5:23Loss:  0.0051229368\n",
      " 9/27 [=========>....................] - ETA: 5:08Loss:  0.00244715391\n",
      "10/27 [==========>...................] - ETA: 4:49Loss:  0.0017692293\n",
      "11/27 [===========>..................] - ETA: 4:32Loss:  0.000755462213\n",
      "12/27 [============>.................] - ETA: 4:16Loss:  0.000688900356\n",
      "13/27 [=============>................] - ETA: 3:59Loss:  0.000872837729\n",
      "14/27 [==============>...............] - ETA: 3:41Loss:  0.00147059152\n",
      "15/27 [===============>..............] - ETA: 3:24Loss:  0.00799172372\n",
      "16/27 [================>.............] - ETA: 3:08Loss:  0.000192100357\n",
      "17/27 [=================>............] - ETA: 2:51Loss:  0.0181824118\n",
      "18/27 [===================>..........] - ETA: 2:33Loss:  0.00985806808\n",
      "19/27 [====================>.........] - ETA: 2:16Loss:  0.00210369984\n",
      "20/27 [=====================>........] - ETA: 1:59Loss:  1.84640758e-05\n",
      "21/27 [======================>.......] - ETA: 1:42Loss:  0.00188277592\n",
      "22/27 [=======================>......] - ETA: 1:25Loss:  0.00184431905\n",
      "23/27 [========================>.....] - ETA: 1:08Loss:  0.000106294363\n",
      "24/27 [=========================>....] - ETA: 51s Loss:  0.000103340251\n",
      "25/27 [==========================>...] - ETA: 34sLoss:  0.00182743918\n",
      "26/27 [===========================>..] - ETA: 17sLoss:  5.23529197e-05\n",
      "27/27 [==============================] - 451s 17s/step\n",
      "\n",
      " Epoch 49/50\n",
      "Loss:  0.00360850734\n",
      " 1/27 [>.............................] - ETA: 7:08Loss:  0.000852378143\n",
      " 2/27 [=>............................] - ETA: 7:28Loss:  0.00287229638\n",
      " 3/27 [==>...........................] - ETA: 7:03Loss:  0.000323312153\n",
      " 4/27 [===>..........................] - ETA: 6:37Loss:  0.000870366755\n",
      " 5/27 [====>.........................] - ETA: 6:17Loss:  0.00084289076\n",
      " 6/27 [=====>........................] - ETA: 6:05Loss:  4.78553739e-05\n",
      " 7/27 [======>.......................] - ETA: 5:48Loss:  0.000250586687\n",
      " 8/27 [=======>......................] - ETA: 5:28Loss:  0.00791265164\n",
      " 9/27 [=========>....................] - ETA: 5:10Loss:  0.0199348424\n",
      "10/27 [==========>...................] - ETA: 4:54Loss:  2.69624961e-05\n",
      "11/27 [===========>..................] - ETA: 4:37Loss:  0.00153838668\n",
      "12/27 [============>.................] - ETA: 4:19Loss:  5.63881258e-05\n",
      "13/27 [=============>................] - ETA: 4:01Loss:  0.00130385754\n",
      "14/27 [==============>...............] - ETA: 3:44Loss:  0.0146233439\n",
      "15/27 [===============>..............] - ETA: 3:27Loss:  0.0026562186\n",
      "16/27 [================>.............] - ETA: 3:09Loss:  0.00202608621\n",
      "17/27 [=================>............] - ETA: 2:51Loss:  0.00167297921\n",
      "18/27 [===================>..........] - ETA: 2:34Loss:  0.000811228\n",
      "19/27 [====================>.........] - ETA: 2:17Loss:  0.0201868378\n",
      "20/27 [=====================>........] - ETA: 2:00Loss:  0.00261694775\n",
      "21/27 [======================>.......] - ETA: 1:42Loss:  5.76643724e-05\n",
      "22/27 [=======================>......] - ETA: 1:26Loss:  0.00037572853\n",
      "23/27 [========================>.....] - ETA: 1:08Loss:  0.00441500451\n",
      "24/27 [=========================>....] - ETA: 51s Loss:  0.00143883063\n",
      "25/27 [==========================>...] - ETA: 34sLoss:  0.00034955825\n",
      "26/27 [===========================>..] - ETA: 17sLoss:  0.0210113246\n",
      "27/27 [==============================] - 451s 17s/step\n",
      "\n",
      " Epoch 50/50\n",
      "Loss:  0.0018209524\n",
      " 1/27 [>.............................] - ETA: 7:06Loss:  0.00141543918\n",
      " 2/27 [=>............................] - ETA: 7:04Loss:  0.006677825\n",
      " 3/27 [==>...........................] - ETA: 6:59Loss:  0.00485043833\n",
      " 4/27 [===>..........................] - ETA: 6:40Loss:  0.000526913209\n",
      " 5/27 [====>.........................] - ETA: 6:17Loss:  0.00148058438\n",
      " 6/27 [=====>........................] - ETA: 5:58Loss:  0.000608581817\n",
      " 7/27 [======>.......................] - ETA: 5:43Loss:  0.00591965951\n",
      " 8/27 [=======>......................] - ETA: 5:27Loss:  0.000436973933\n",
      " 9/27 [=========>....................] - ETA: 5:08Loss:  0.0422629416\n",
      "10/27 [==========>...................] - ETA: 4:49Loss:  0.00178524212\n",
      "11/27 [===========>..................] - ETA: 4:34Loss:  0.0175437685\n",
      "12/27 [============>.................] - ETA: 4:17Loss:  0.00405225484\n",
      "13/27 [=============>................] - ETA: 3:59Loss:  0.00175413874\n",
      "14/27 [==============>...............] - ETA: 3:42Loss:  0.00212886417\n",
      "15/27 [===============>..............] - ETA: 3:25Loss:  0.00918677729\n",
      "16/27 [================>.............] - ETA: 3:08Loss:  0.00148585753\n",
      "17/27 [=================>............] - ETA: 2:51Loss:  0.000116258561\n",
      "18/27 [===================>..........] - ETA: 2:33Loss:  0.0176576991\n",
      "19/27 [====================>.........] - ETA: 2:16Loss:  0.000385182066\n",
      "20/27 [=====================>........] - ETA: 1:59Loss:  0.00130828423\n",
      "21/27 [======================>.......] - ETA: 1:42Loss:  0.00121980463\n",
      "22/27 [=======================>......] - ETA: 1:25Loss:  0.0174696986\n",
      "23/27 [========================>.....] - ETA: 1:08Loss:  0.00113719737\n",
      "24/27 [=========================>....] - ETA: 51s Loss:  0.000270946912\n",
      "25/27 [==========================>...] - ETA: 34sLoss:  0.000683491642\n",
      "26/27 [===========================>..] - ETA: 17sLoss:  0.00411375426\n",
      "27/27 [==============================] - 451s 17s/step\n"
     ]
    }
   ],
   "source": [
    "train(train_data, EPOCHS)"
   ]
  },
  {
   "cell_type": "markdown",
   "metadata": {},
   "source": [
    "# 6. Evaluate Model"
   ]
  },
  {
   "cell_type": "markdown",
   "metadata": {},
   "source": [
    "## 6.1 Import Metrics"
   ]
  },
  {
   "cell_type": "code",
   "execution_count": 296,
   "metadata": {},
   "outputs": [],
   "source": [
    "# Import metric calculations\n",
    "from tensorflow.keras.metrics import Precision, Recall"
   ]
  },
  {
   "cell_type": "markdown",
   "metadata": {},
   "source": [
    "## 6.2 Make Predictions"
   ]
  },
  {
   "cell_type": "code",
   "execution_count": 297,
   "metadata": {},
   "outputs": [],
   "source": [
    "# Get a batch of test data\n",
    "test_input, test_val, y_true = test_data.as_numpy_iterator().next()"
   ]
  },
  {
   "cell_type": "code",
   "execution_count": 306,
   "metadata": {},
   "outputs": [
    {
     "data": {
      "text/plain": [
       "array([[1.0000000e+00],\n",
       "       [9.8510402e-01],\n",
       "       [9.3038422e-01],\n",
       "       [1.0000000e+00],\n",
       "       [9.9740797e-01],\n",
       "       [4.4901729e-13],\n",
       "       [9.9998796e-01],\n",
       "       [9.8781234e-01],\n",
       "       [1.0000000e+00],\n",
       "       [1.1112185e-06],\n",
       "       [9.9972546e-01],\n",
       "       [9.9982762e-01],\n",
       "       [9.9946082e-01],\n",
       "       [2.2973294e-05],\n",
       "       [2.9830527e-11],\n",
       "       [1.2434688e-06]], dtype=float32)"
      ]
     },
     "execution_count": 306,
     "metadata": {},
     "output_type": "execute_result"
    }
   ],
   "source": [
    "# Make predictions\n",
    "y_hat = siamese_model.predict([test_input, test_val])\n",
    "y_hat"
   ]
  },
  {
   "cell_type": "code",
   "execution_count": 308,
   "metadata": {},
   "outputs": [
    {
     "data": {
      "text/plain": [
       "[1, 1, 1, 1, 1, 0, 1, 1, 1, 0, 1, 1, 1, 0, 0, 0]"
      ]
     },
     "execution_count": 308,
     "metadata": {},
     "output_type": "execute_result"
    }
   ],
   "source": [
    "# Post processing the results \n",
    "[1 if prediction > 0.5 else 0 for prediction in y_hat ]"
   ]
  },
  {
   "cell_type": "code",
   "execution_count": 309,
   "metadata": {},
   "outputs": [
    {
     "data": {
      "text/plain": [
       "array([1., 1., 1., 1., 1., 0., 1., 1., 1., 0., 1., 1., 1., 0., 0., 0.],\n",
       "      dtype=float32)"
      ]
     },
     "execution_count": 309,
     "metadata": {},
     "output_type": "execute_result"
    }
   ],
   "source": [
    "y_true"
   ]
  },
  {
   "cell_type": "markdown",
   "metadata": {},
   "source": [
    "## 6.3 Calculate Metrics"
   ]
  },
  {
   "cell_type": "code",
   "execution_count": 311,
   "metadata": {},
   "outputs": [
    {
     "data": {
      "text/plain": [
       "1.0"
      ]
     },
     "execution_count": 311,
     "metadata": {},
     "output_type": "execute_result"
    }
   ],
   "source": [
    "# Creating a metric object \n",
    "m = Recall()\n",
    "\n",
    "# Calculating the recall value \n",
    "m.update_state(y_true, y_hat)\n",
    "\n",
    "# Return Recall Result\n",
    "m.result().numpy()"
   ]
  },
  {
   "cell_type": "code",
   "execution_count": 312,
   "metadata": {},
   "outputs": [
    {
     "data": {
      "text/plain": [
       "1.0"
      ]
     },
     "execution_count": 312,
     "metadata": {},
     "output_type": "execute_result"
    }
   ],
   "source": [
    "# Creating a metric object \n",
    "m = Precision()\n",
    "\n",
    "# Calculating the recall value \n",
    "m.update_state(y_true, y_hat)\n",
    "\n",
    "# Return Recall Result\n",
    "m.result().numpy()"
   ]
  },
  {
   "cell_type": "markdown",
   "metadata": {},
   "source": [
    "## 6.4 Viz Results"
   ]
  },
  {
   "cell_type": "code",
   "execution_count": 313,
   "metadata": {},
   "outputs": [
    {
     "data": {
      "image/png": "[encoded data removed]",
      "text/plain": [
       "<Figure size 1000x800 with 2 Axes>"
      ]
     },
     "metadata": {},
     "output_type": "display_data"
    }
   ],
   "source": [
    "# Set plot size \n",
    "plt.figure(figsize=(10,8))\n",
    "\n",
    "# Set first subplot\n",
    "plt.subplot(1,2,1)\n",
    "plt.imshow(test_input[0])\n",
    "\n",
    "# Set second subplot\n",
    "plt.subplot(1,2,2)\n",
    "plt.imshow(test_val[0])\n",
    "\n",
    "# Renders cleanly\n",
    "plt.show()"
   ]
  },
  {
   "cell_type": "markdown",
   "metadata": {},
   "source": [
    "# 7. Save Model"
   ]
  },
  {
   "cell_type": "code",
   "execution_count": 314,
   "metadata": {},
   "outputs": [],
   "source": [
    "# Save weights\n",
    "siamese_model.save('siamesemodel.h5')"
   ]
  },
  {
   "cell_type": "code",
   "execution_count": 315,
   "metadata": {},
   "outputs": [
    {
     "data": {
      "text/plain": [
       "__main__.L1Dist"
      ]
     },
     "execution_count": 315,
     "metadata": {},
     "output_type": "execute_result"
    }
   ],
   "source": [
    "L1Dist"
   ]
  },
  {
   "cell_type": "code",
   "execution_count": 319,
   "metadata": {},
   "outputs": [
    {
     "name": "stdout",
     "output_type": "stream",
     "text": [
      "WARNING:tensorflow:No training configuration found in the save file, so the model was *not* compiled. Compile it manually.\n"
     ]
    }
   ],
   "source": [
    "from tensorflow.keras.models import load_model\n",
    "\n",
    "# Reload model \n",
    "#model = tf.keras.models.load_model('siamesemodel.h5', \n",
    "#                                   custom_objects={'L1Dist':L1Dist, 'BinaryCrossentropy':tf.losses.BinaryCrossentropy})\n",
    "# Load the saved model\n",
    "model = load_model('siamesemodel.h5', custom_objects={'L1Dist': L1Dist, 'BinaryCrossentropy': tf.keras.losses.BinaryCrossentropy})\n"
   ]
  },
  {
   "cell_type": "code",
   "execution_count": 317,
   "metadata": {},
   "outputs": [
    {
     "name": "stdout",
     "output_type": "stream",
     "text": [
      "WARNING:tensorflow:5 out of the last 6 calls to <function Model.make_predict_function.<locals>.predict_function at 0x00000159017DD9D8> triggered tf.function retracing. Tracing is expensive and the excessive number of tracings could be due to (1) creating @tf.function repeatedly in a loop, (2) passing tensors with different shapes, (3) passing Python objects instead of tensors. For (1), please define your @tf.function outside of the loop. For (2), @tf.function has experimental_relax_shapes=True option that relaxes argument shapes that can avoid unnecessary retracing. For (3), please refer to https://www.tensorflow.org/guide/function#controlling_retracing and https://www.tensorflow.org/api_docs/python/tf/function for  more details.\n"
     ]
    },
    {
     "data": {
      "text/plain": [
       "array([[1.0000000e+00],\n",
       "       [9.8510402e-01],\n",
       "       [9.3038422e-01],\n",
       "       [1.0000000e+00],\n",
       "       [9.9740797e-01],\n",
       "       [4.4901729e-13],\n",
       "       [9.9998796e-01],\n",
       "       [9.8781234e-01],\n",
       "       [1.0000000e+00],\n",
       "       [1.1112185e-06],\n",
       "       [9.9972546e-01],\n",
       "       [9.9982762e-01],\n",
       "       [9.9946082e-01],\n",
       "       [2.2973294e-05],\n",
       "       [2.9830527e-11],\n",
       "       [1.2434688e-06]], dtype=float32)"
      ]
     },
     "execution_count": 317,
     "metadata": {},
     "output_type": "execute_result"
    }
   ],
   "source": [
    "# Make predictions with reloaded model\n",
    "model.predict([test_input, test_val])"
   ]
  },
  {
   "cell_type": "code",
   "execution_count": 320,
   "metadata": {},
   "outputs": [
    {
     "name": "stdout",
     "output_type": "stream",
     "text": [
      "Model: \"SiameseNetwork\"\n",
      "__________________________________________________________________________________________________\n",
      "Layer (type)                    Output Shape         Param #     Connected to                     \n",
      "==================================================================================================\n",
      "input_img (InputLayer)          [(None, 100, 100, 3) 0                                            \n",
      "__________________________________________________________________________________________________\n",
      "validation_img (InputLayer)     [(None, 100, 100, 3) 0                                            \n",
      "__________________________________________________________________________________________________\n",
      "embedding (Functional)          (None, 4096)         38960448    input_img[0][0]                  \n",
      "                                                                 validation_img[0][0]             \n",
      "__________________________________________________________________________________________________\n",
      "l1_dist_12 (L1Dist)             (None, 4096)         0           embedding[0][0]                  \n",
      "                                                                 embedding[1][0]                  \n",
      "__________________________________________________________________________________________________\n",
      "dense_7 (Dense)                 (None, 1)            4097        l1_dist_12[0][0]                 \n",
      "==================================================================================================\n",
      "Total params: 38,964,545\n",
      "Trainable params: 38,964,545\n",
      "Non-trainable params: 0\n",
      "__________________________________________________________________________________________________\n"
     ]
    }
   ],
   "source": [
    "# View model summary\n",
    "model.summary()"
   ]
  },
  {
   "cell_type": "markdown",
   "metadata": {},
   "source": [
    "# 8. Real Time Test"
   ]
  },
  {
   "cell_type": "markdown",
   "metadata": {},
   "source": [
    "## 8.1 Verification Function"
   ]
  },
  {
   "cell_type": "code",
   "execution_count": 162,
   "metadata": {},
   "outputs": [],
   "source": [
    "#application_data\\verification_images"
   ]
  },
  {
   "cell_type": "code",
   "execution_count": 321,
   "metadata": {},
   "outputs": [],
   "source": [
    "VI = os.path.join('application_data', 'verification_images')\n",
    "II = os.path.join('application_data', 'input_image')"
   ]
  },
  {
   "cell_type": "code",
   "execution_count": 9,
   "metadata": {},
   "outputs": [],
   "source": [
    "#os.makedirs(VI)\n",
    "#os.makedirs(II)"
   ]
  },
  {
   "cell_type": "code",
   "execution_count": 322,
   "metadata": {},
   "outputs": [
    {
     "data": {
      "text/plain": [
       "[]"
      ]
     },
     "execution_count": 322,
     "metadata": {},
     "output_type": "execute_result"
    }
   ],
   "source": [
    "os.listdir(os.path.join('application_data', 'verification_images'))"
   ]
  },
  {
   "cell_type": "code",
   "execution_count": 101,
   "metadata": {},
   "outputs": [
    {
     "data": {
      "text/plain": [
       "'application_data\\\\input_image\\\\input_image.jpg'"
      ]
     },
     "execution_count": 101,
     "metadata": {},
     "output_type": "execute_result"
    }
   ],
   "source": [
    "os.path.join('application_data', 'input_image', 'input_image.jpg')"
   ]
  },
  {
   "cell_type": "code",
   "execution_count": 323,
   "metadata": {},
   "outputs": [],
   "source": [
    "for image in os.listdir(os.path.join('application_data', 'verification_images')):\n",
    "    validation_img = os.path.join('application_data', 'verification_images', image)\n",
    "    print(validation_img)"
   ]
  },
  {
   "cell_type": "code",
   "execution_count": 324,
   "metadata": {},
   "outputs": [],
   "source": [
    "def verify(model, detection_threshold, verification_threshold):\n",
    "    # Build results array\n",
    "    results = []\n",
    "    for image in os.listdir(os.path.join('application_data', 'verification_images')):\n",
    "        input_img = preprocess(os.path.join('application_data', 'input_image', 'input_image.jpg'))\n",
    "        validation_img = preprocess(os.path.join('application_data', 'verification_images', image))\n",
    "        \n",
    "        # Make Predictions \n",
    "        result = model.predict(list(np.expand_dims([input_img, validation_img], axis=1)))\n",
    "        results.append(result)\n",
    "    \n",
    "    # Detection Threshold: Metric above which a prediciton is considered positive \n",
    "    detection = np.sum(np.array(results) > detection_threshold)\n",
    "    \n",
    "    # Verification Threshold: Proportion of positive predictions / total positive samples \n",
    "    verification = detection / len(os.listdir(os.path.join('application_data', 'verification_images'))) \n",
    "    verified = verification > verification_threshold\n",
    "    \n",
    "    return results, verified"
   ]
  },
  {
   "cell_type": "markdown",
   "metadata": {},
   "source": [
    "## 8.2 OpenCV Real Time Verification"
   ]
  },
  {
   "cell_type": "code",
   "execution_count": 328,
   "metadata": {},
   "outputs": [
    {
     "name": "stderr",
     "output_type": "stream",
     "text": [
      "C:\\Users\\ismai\\AppData\\Local\\Programs\\Python\\Python37\\lib\\site-packages\\ipykernel_launcher.py:16: RuntimeWarning: invalid value encountered in long_scalars\n",
      "  \n"
     ]
    },
    {
     "name": "stdout",
     "output_type": "stream",
     "text": [
      "False\n",
      "False\n",
      "False\n",
      "False\n",
      "False\n",
      "False\n",
      "False\n",
      "False\n",
      "False\n",
      "False\n",
      "False\n",
      "False\n",
      "False\n"
     ]
    }
   ],
   "source": [
    "cap = cv2.VideoCapture(0)\n",
    "while cap.isOpened():\n",
    "    ret, frame = cap.read()\n",
    "    frame = frame[120:120+250,200:200+250, :]\n",
    "    \n",
    "    cv2.imshow('Verification', frame)\n",
    "    \n",
    "    # Verification trigger\n",
    "    if cv2.waitKey(10) & 0xFF == ord('v'):\n",
    "        # Save input image to application_data/input_image folder \n",
    "        cv2.imwrite(os.path.join('application_data', 'input_image', 'input_image.jpg'), frame)\n",
    "        # Run verification\n",
    "        results, verified = verify(model, 0.9, 0.7)\n",
    "        print(verified)\n",
    "    \n",
    "    if cv2.waitKey(10) & 0xFF == ord('q'):\n",
    "        break\n",
    "cap.release()\n",
    "cv2.destroyAllWindows()"
   ]
  },
  {
   "cell_type": "code",
   "execution_count": 326,
   "metadata": {},
   "outputs": [
    {
     "data": {
      "text/plain": [
       "0"
      ]
     },
     "execution_count": 326,
     "metadata": {},
     "output_type": "execute_result"
    }
   ],
   "source": [
    "np.sum(np.squeeze(results) > 0.9)"
   ]
  },
  {
   "cell_type": "code",
   "execution_count": 327,
   "metadata": {},
   "outputs": [
    {
     "data": {
      "text/plain": [
       "0.64"
      ]
     },
     "execution_count": 327,
     "metadata": {},
     "output_type": "execute_result"
    }
   ],
   "source": [
    "32/50"
   ]
  },
  {
   "cell_type": "code",
   "execution_count": null,
   "metadata": {},
   "outputs": [],
   "source": []
  }
 ],
 "metadata": {
  "kernelspec": {
   "display_name": "Python 3.7 (py37_env)",
   "language": "python",
   "name": "py37_env"
  },
  "language_info": {
   "codemirror_mode": {
    "name": "ipython",
    "version": 3
   },
   "file_extension": ".py",
   "mimetype": "text/x-python",
   "name": "python",
   "nbconvert_exporter": "python",
   "pygments_lexer": "ipython3",
   "version": "3.7.0"
  }
 },
 "nbformat": 4,
 "nbformat_minor": 2
}
